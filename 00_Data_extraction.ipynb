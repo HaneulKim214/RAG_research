{
 "cells": [
  {
   "cell_type": "code",
   "execution_count": 35,
   "id": "e3528fc5-cdd6-4b33-ab3b-c57e16c68202",
   "metadata": {},
   "outputs": [],
   "source": [
    "import io, os, re, sys\n",
    "import numpy as np\n",
    "import pandas as pd\n",
    "import pytesseract\n",
    "import fitz\n",
    "import PyPDF2\n",
    "\n",
    "# Table extraction: Docling(doc:https://docling-project.github.io/docling/), tabula\n",
    "\n",
    "from datetime import datetime, timedelta, timezone\n",
    "from dotenv import load_dotenv\n",
    "from googleapiclient.discovery import build\n",
    "from PIL import Image"
   ]
  },
  {
   "cell_type": "code",
   "execution_count": 36,
   "id": "9182c975-bfa4-48dd-8b9b-fec5312ef04e",
   "metadata": {},
   "outputs": [],
   "source": [
    "from langchain_google_genai import ChatGoogleGenerativeAI\n",
    "from langchain.prompts import ChatPromptTemplate\n",
    "from langchain.chains import LLMChain\n",
    "\n",
    "# from langchain_google_genai import GoogleGenerativeAIEmbeddings\n",
    "# from langchain_google_genai import ChatGoogleGenerativeAI"
   ]
  },
  {
   "cell_type": "code",
   "execution_count": 37,
   "id": "f2e18d56-a9dc-4a69-91ec-e79e2c9f695f",
   "metadata": {},
   "outputs": [
    {
     "data": {
      "text/plain": [
       "True"
      ]
     },
     "execution_count": 37,
     "metadata": {},
     "output_type": "execute_result"
    }
   ],
   "source": [
    "from dotenv import load_dotenv\n",
    "load_dotenv()"
   ]
  },
  {
   "cell_type": "code",
   "execution_count": 80,
   "id": "3fb4d195",
   "metadata": {},
   "outputs": [],
   "source": [
    "gemini = ChatGoogleGenerativeAI(\n",
    "    model=\"gemini-2.5-flash\",\n",
    "    google_api_key=os.getenv(\"GOOGLE_API_KEY\"),\n",
    "    temperature=0.1\n",
    ")"
   ]
  },
  {
   "cell_type": "code",
   "execution_count": null,
   "id": "43763896-eb3e-4459-a529-545d1bc63dc1",
   "metadata": {},
   "outputs": [],
   "source": [
    "embeddings = GoogleGenerativeAIEmbeddings(\n",
    "            model=\"models/embedding-001\",\n",
    "            google_api_key=os.getenv(\"GOOGLE_API_KEY\")\n",
    "        ) "
   ]
  },
  {
   "cell_type": "code",
   "execution_count": null,
   "id": "c49464c7-a28f-42f1-8f43-f3126f17915a",
   "metadata": {},
   "outputs": [],
   "source": [
    "print(sys.version)\n",
    "print(sys.executable)"
   ]
  },
  {
   "cell_type": "code",
   "execution_count": null,
   "id": "b135fd84-6b9d-4320-8adc-b847bddca20a",
   "metadata": {},
   "outputs": [],
   "source": [
    "os.listdir('data/')"
   ]
  },
  {
   "cell_type": "markdown",
   "id": "d1bcb0c8-145d-4fb2-9872-f32eab7b2ef2",
   "metadata": {},
   "source": [
    "# Extract data from PDF"
   ]
  },
  {
   "cell_type": "code",
   "execution_count": null,
   "id": "c98323b4-9079-491c-98cd-b038ef1d1a1e",
   "metadata": {},
   "outputs": [],
   "source": [
    "q1_report_path = \"data/raw/2025_1Q_LGES_Audit_Report_CONFS_en.pdf\""
   ]
  },
  {
   "cell_type": "code",
   "execution_count": null,
   "id": "dab09341-9385-495a-9159-61abcc4a9465",
   "metadata": {},
   "outputs": [],
   "source": [
    "docs = fitz.open(q1_report_path)\n",
    "print(f\"total pages: {len(docs)}\")"
   ]
  },
  {
   "cell_type": "markdown",
   "id": "4dc46260-f3cb-4ccb-aaef-bca2ca35c144",
   "metadata": {},
   "source": [
    "### Docling test"
   ]
  },
  {
   "cell_type": "code",
   "execution_count": null,
   "id": "a6ee0316-9885-43c5-8b6d-1aa929972b52",
   "metadata": {},
   "outputs": [],
   "source": [
    "from docling.document_converter import DocumentConverter\n",
    "from pathlib import Path"
   ]
  },
  {
   "cell_type": "code",
   "execution_count": null,
   "id": "61b5f99d-a48d-47e1-a460-76d0c0c531ad",
   "metadata": {},
   "outputs": [],
   "source": [
    "# doc_converter = DocumentConverter()\n",
    "conv_res = doc_converter.convert(q1_report_path)\n",
    "doc_filename = conv_res.input.file.stem"
   ]
  },
  {
   "cell_type": "code",
   "execution_count": null,
   "id": "cee9e8aa-629b-4fc7-ada8-b9a69904f5fc",
   "metadata": {},
   "outputs": [],
   "source": [
    "dfs = {}\n",
    "for table_i, table in enumerate(conv_res.document.tables):\n",
    "    table_df: pd.DataFrame = table.export_to_dataframe()\n",
    "    # print(table_df.to_markdown())\n",
    "    dfs[f\"tabel_{table_i}\"] = table_df"
   ]
  },
  {
   "cell_type": "markdown",
   "id": "e9c1561c-99f2-4fe1-b59c-199f98f57e99",
   "metadata": {},
   "source": [
    "----"
   ]
  },
  {
   "cell_type": "code",
   "execution_count": null,
   "id": "8ab8280c-bd18-43f4-a8d7-fc863715f07a",
   "metadata": {},
   "outputs": [],
   "source": [
    "print(docs, type(docs))\n",
    "print(docs[0], type(docs[0]))"
   ]
  },
  {
   "cell_type": "code",
   "execution_count": null,
   "id": "ed64840d-3b07-4f43-939b-2f3bdb8fbfcb",
   "metadata": {},
   "outputs": [],
   "source": [
    "def is_scanned_page(page):\n",
    "    \"\"\"\n",
    "    If pages are covered with only images, run OCR.\n",
    "\n",
    "    ??? What if half is filled with images and half with text?\n",
    "    \"\"\"\n",
    "    text = page.get_text().strip()\n",
    "    images = page.get_images()\n",
    "    return len(images) > 0 and len(text) < 25 \n",
    "\n",
    "def extract_text_ocr(page):\n",
    "    pix = page.get_pixmap()\n",
    "    img_data = pix.tobytes(\"png\")\n",
    "    img = Image.open(io.BytesIO(img_data))\n",
    "\n",
    "    # text extraction using OCR\n",
    "    text = pytesseract.image_to_string(img)\n",
    "    return text\n",
    "\n",
    "def clean_text(text):\n",
    "    \"\"\"Clean extracted text\"\"\"\n",
    "    # Remove excessive whitespace\n",
    "    text = re.sub(r'\\s+', ' ', text)\n",
    "    # Remove special characters but keep punctuation\n",
    "    text = re.sub(r'[^\\w\\s\\-.,;:!?()]', '', text)\n",
    "    return text.strip()"
   ]
  },
  {
   "cell_type": "code",
   "execution_count": null,
   "id": "1d758d07-5eac-4d2d-aa30-50ec2cbbbab3",
   "metadata": {},
   "outputs": [],
   "source": [
    "full_text = \"\"\n",
    "for pg_i, page in enumerate(docs):\n",
    "    if is_scanned_page(page):\n",
    "        ocr_text = extract_text_ocr(page)\n",
    "        if ocr_text.strip():\n",
    "            page_text = ocr_text\n",
    "        else:\n",
    "            print(f\"--------OCR failed------- at page:{pg_i}\")\n",
    "    else:\n",
    "        page_text = page.get_text()\n",
    "        \n",
    "    page_text = clean_text(page_text)\n",
    "    full_text += f\"\\n--- Page {pg_i + 1} ---\\n{page_text}\\n\"\n",
    "    \n",
    "with open('data/processed/2025_1Q_LGES_Audit_Report_CONFS_en_fulltext.txt', 'w') as f:\n",
    "   f.write(full_text) "
   ]
  },
  {
   "cell_type": "code",
   "execution_count": null,
   "id": "ddb25ef3-046e-4678-9866-aeefe8635e8d",
   "metadata": {},
   "outputs": [],
   "source": [
    "# ??? Extract Table of content: So it's information can be leveraged somewher(ex: chunk by chapter, etc..)\n",
    "# table_of_contents = doc[1].get_text()\n",
    "\n",
    "# ??? Better way to extract table? and standardize schema across various reports from diff countries.\n",
    "# table = doc[5].get_text() + \"\\n\" + doc[6].get_text()"
   ]
  },
  {
   "cell_type": "markdown",
   "id": "d8ebc6e5-b7bc-46a1-8d9e-7f76e48ab11c",
   "metadata": {},
   "source": [
    "## when PDF contains incomprehensible tables\n",
    "\n",
    "Unless we use Multi-modal embedding model, or extracting tables work perfectly (Images seem fine but if table in pdf is hard to comprehend, even for human) it is better to add another chain, that is, ask LLM to generate a summary then summary becomes your texts to embed (or could feed it directly).\n",
    "- Even with Docling, if table inside pdf is not easily comprehensible (even to human), we should either add human in the loop or summarize using multimodal-models."
   ]
  },
  {
   "cell_type": "code",
   "execution_count": null,
   "id": "72ce6657-99d7-4ad9-b312-92dabd2b2565",
   "metadata": {},
   "outputs": [],
   "source": [
    "# from google import genai\n",
    "# client = genai.Client()\n",
    "# myfile = client.files.upload(file=q1_report_path)\n",
    "# myfile"
   ]
  },
  {
   "cell_type": "code",
   "execution_count": null,
   "id": "440ac8bf-6e02-4815-a566-34dbf4d6b176",
   "metadata": {},
   "outputs": [],
   "source": [
    "from google import genai\n",
    "from google.genai import types\n",
    "import time\n",
    "from langchain_google_genai import ChatGoogleGenerativeAI\n",
    "from langchain_core.messages import HumanMessage\n",
    "\n",
    "client = genai.Client()\n",
    "system_message = \"\"\"\n",
    "You are a financial analyst who have been following \n",
    "LG energy solution for few years.\n",
    "You are extremely knowlegeable about battery industry.\n",
    "From given financial report of LG energy solution, \n",
    "Create a summary report that will help investors make decisions \n",
    "on when to buy on the stock market.\n",
    "\"\"\"\n",
    "\n",
    "# Upload file\n",
    "file = client.files.upload(file=q1_report_path)\n",
    "while file.state.name == 'PROCESSING':\n",
    "    time.sleep(2)\n",
    "    file = client.files.get(name=file.name)\n",
    "\n",
    "# Create cache\n",
    "# model = 'models/gemini-1.5-flash-latest'\n",
    "# cache = client.caches.create(\n",
    "#     model=model,\n",
    "#     config=types.CreateCachedContentConfig(\n",
    "#         display_name='Cached Content',\n",
    "#         system_instruction=(system_message),\n",
    "#         contents=[file],\n",
    "#         ttl=\"300s\",\n",
    "#     )\n",
    "# )\n",
    "\n",
    "chain = fin_rep_anal_prmt | gemini\n",
    "\n",
    "message = HumanMessage(content=\"\")\n",
    "response = chain.invoke({\n",
    "    \"company_name\": \n",
    "})"
   ]
  },
  {
   "cell_type": "code",
   "execution_count": null,
   "id": "a37363b6-d9db-48c9-97e5-747f34bc47b6",
   "metadata": {},
   "outputs": [],
   "source": [
    "import base64\n",
    "from langchain_core.messages import HumanMessage\n",
    "\n",
    "pdf_bytes = open(q1_report_path, 'rb').read()\n",
    "pdf_base64 = base64.b64encode(pdf_bytes).decode('utf-8')\n",
    "\n",
    "message = HumanMessage(\n",
    "    content=[\n",
    "        {\"type\": \"text\", \"text\": \"You are a financial analyst who have been following LG energy solution for few years. You are extremely knowlegeable about battery industry. From given financial report of LG energy solution, Create a summary report that will help investors make decisions on when to buy on the stock market.\"},\n",
    "        {\n",
    "            \"type\": \"file\",\n",
    "            \"source_type\": \"base64\",\n",
    "            \"mime_type\":\"application/pdf\",\n",
    "            \"data\": pdf_base64\n",
    "        }\n",
    "    ]\n",
    ")\n",
    "\n",
    "response = gemini.invoke([message])"
   ]
  },
  {
   "cell_type": "code",
   "execution_count": null,
   "id": "c8364462-3568-411a-85fa-b1c3eb673506",
   "metadata": {},
   "outputs": [],
   "source": [
    "from pydantic import BaseModel, Field\n",
    "\n",
    "\n",
    "class GetWeather(BaseModel):\n",
    "    '''Get the current weather in a given location'''\n",
    "\n",
    "    location: str = Field(\n",
    "        ..., description=\"The city and state, e.g. San Francisco, CA\"\n",
    "    )\n",
    "\n",
    "\n",
    "class GetPopulation(BaseModel):\n",
    "    '''Get the current population in a given location'''\n",
    "\n",
    "    location: str = Field(\n",
    "        ..., description=\"The city and state, e.g. San Francisco, CA\"\n",
    "    )\n",
    "\n",
    "\n",
    "llm_with_tools = gemini.bind_tools([GetWeather, GetPopulation])\n",
    "ai_msg = llm_with_tools.invoke(\n",
    "    \"Which city is hotter today and which is bigger: LA or NY?\"\n",
    ")\n",
    "ai_msg.tool_calls"
   ]
  },
  {
   "cell_type": "code",
   "execution_count": null,
   "id": "50cf0d02-9cf9-4705-a066-9f66077dcd17",
   "metadata": {},
   "outputs": [],
   "source": [
    "ai_msg.content"
   ]
  },
  {
   "cell_type": "code",
   "execution_count": null,
   "id": "b776edf7-dcac-4bd6-a77a-c2323c520850",
   "metadata": {},
   "outputs": [],
   "source": [
    "from google.ai.generativelanguage_v1beta.types import Tool as GenAITool\n",
    "llm = ChatGoogleGenerativeAI(model=\"gemini-2.5-flash\")\n",
    "resp = llm.invoke(\n",
    "    \"When is the next total solar eclipse in US?\",\n",
    "    tools=[GenAITool(google_search={})],\n",
    ")"
   ]
  },
  {
   "cell_type": "markdown",
   "id": "42c85e2a-6550-4a6e-905c-2e8c679840a0",
   "metadata": {},
   "source": [
    "# Youtube extractor"
   ]
  },
  {
   "cell_type": "code",
   "execution_count": null,
   "id": "2b84ba5e",
   "metadata": {},
   "outputs": [],
   "source": [
    "import requests\n",
    "import google.auth\n",
    "\n",
    "try:\n",
    "    credentials, project = google.auth.default()\n",
    "    print(\"✅ ADC credentials found and configured.\")\n",
    "    if project:\n",
    "        print(f\"Project ID: {project}\")\n",
    "    else:\n",
    "        print(\"No project ID found in credentials.\")\n",
    "except google.auth.exceptions.DefaultCredentialsError as e:\n",
    "    print(f\"❌ ADC credentials not found. Error: {e}\")"
   ]
  },
  {
   "cell_type": "code",
   "execution_count": null,
   "id": "992eabff",
   "metadata": {},
   "outputs": [],
   "source": [
    "\"\"\"\n",
    "Sending video to LLM, despite it being multi-modal, is prone to error. It does not seem to capture \n",
    "information from video.\n",
    "\n",
    "Better to use transcript whenever possible.\n",
    "\"\"\"\n",
    "from youtube_transcripts import fetch_transcripts_for_urls, merge_transcripts_text\n",
    "\n",
    "urls = [\n",
    "    # paste your video URLs here\n",
    "]\n",
    "\n",
    "trs = fetch_transcripts_for_urls(urls, preferred_languages=(\"en\", \"ko\"), translate_to=None)\n",
    "merged_text = merge_transcripts_text(trs)\n",
    "print(merged_text[:1000])  # preview first 1,000 chars\n"
   ]
  },
  {
   "cell_type": "code",
   "execution_count": null,
   "id": "20eb3fb9",
   "metadata": {},
   "outputs": [],
   "source": [
    "from youtube_transcript_api import YouTubeTranscriptApi, TranscriptsDisabled, NoTranscriptFound, VideoUnavailable\n",
    "from youtube_transcripts import fetch_transcript"
   ]
  },
  {
   "cell_type": "code",
   "execution_count": 54,
   "id": "8359e555-7ccb-4d29-9001-4e815f213b0b",
   "metadata": {},
   "outputs": [],
   "source": [
    "def search_youtube_latest_company_news(client, company_name, language, k=15, days=10, n_sub_limit=0):\n",
    "    \"\"\"return list of youtube urls of latest company news\n",
    "    https://developers.google.com/youtube/v3/docs/search/list#examples\n",
    "    \"\"\"\n",
    "    # Only retrieve videos after this date\n",
    "    pub_after_dt = datetime.now(timezone.utc) - timedelta(days=days)\n",
    "    pub_after = pub_after_dt.isoformat().replace(\"+00:00\", \"Z\")\n",
    "\n",
    "    if language == \"ko\":\n",
    "        query = f\"{company_name} 기업 관련뉴스\"\n",
    "    else:\n",
    "        query = f\"{company_name} corporate news\"\n",
    "    # Exclude YouTube Shorts (videos under 60 seconds) by using the 'videoDuration' parameter set to 'medium' or 'long'.\n",
    "    # 'medium' = 4-20min, 'long' = >20min. We'll use 'medium' to avoid shorts and most very short clips.\n",
    "    # If you want to include longer videos too, you can run two queries or use 'any' and filter after.\n",
    "    resp = (client.search()\n",
    "            .list(q=query,\n",
    "                 part=\"id,snippet\",\n",
    "                 type=\"video\",\n",
    "                 order=\"date\",\n",
    "                 maxResults=k,\n",
    "                 publishedAfter=pub_after,\n",
    "                 videoDuration=\"medium\" # {\"short\"(0-4min), \"medium\"(4-20min), \"long\"(>20min)} \n",
    "            )).execute()  \n",
    "    video_ids = []\n",
    "    video_titles = []\n",
    "    channel_ids = []\n",
    "    channel_titles = []\n",
    "    pub_dtts = []\n",
    "    n_subs_list = []\n",
    "\n",
    "    for res in resp.get(\"items\"):\n",
    "        content_type = res['id']['kind']\n",
    "        if content_type != 'youtube#video':\n",
    "            continue\n",
    "        snippet = res['snippet']\n",
    "        channel_id = snippet['channelId']\n",
    "        channel_title = snippet['channelTitle']\n",
    "        published_dtt = snippet['publishTime']\n",
    "        \n",
    "        video_id = res['id']['videoId'] # https://www.youtube.com/watch?v={video_id}\n",
    "        video_title = res['snippet']['title']\n",
    "        n_subs = (client.channels()\n",
    "                .list(part='statistics',id=channel_id)\n",
    "                .execute()['items'][0]['statistics']['subscriberCount'])\n",
    "        video_ids.append(video_id)\n",
    "        video_titles.append(video_title)\n",
    "        channel_ids.append(channel_id)\n",
    "        channel_titles.append(channel_title)\n",
    "        pub_dtts.append(published_dtt)\n",
    "        n_subs_list.append(int(n_subs))\n",
    "    df = pd.DataFrame({\"videoId\":video_ids,\n",
    "                    \"title\":video_titles,\n",
    "                    \"channelId\":channel_ids,\n",
    "                    \"channelTitle\":channel_titles,\n",
    "                    \"publishedAt\":pub_dtts,\n",
    "                    \"subscriberCount\":n_subs_list})\n",
    "    df = df.loc[df[\"subscriberCount\"] > n_sub_limit]\n",
    "    df['videoUrl'] = df['videoId'].apply(lambda x: f\"https://www.youtube.com/watch?v={x}\")\n",
    "    return df, resp\n",
    "\n",
    "youtube_client = build(\"youtube\", \"v3\")\n",
    "\n",
    "company_name = \"LG에너지 솔루션\"\n",
    "language = \"ko\"\n",
    "k = 30\n",
    "days = 10\n",
    "n_sub_limit = 100_000\n",
    "\n",
    "df, resp = search_youtube_latest_company_news(youtube_client, company_name, language, k, days, n_sub_limit)\n",
    "urls_text = \"\\n\".join(df['videoUrl'])"
   ]
  },
  {
   "cell_type": "code",
   "execution_count": 62,
   "id": "bb2e3bb1",
   "metadata": {},
   "outputs": [],
   "source": [
    "def get_transcript_text(ytt_api, video_id):\n",
    "    transcription = ytt_api.fetch(video_id, languages=['ko', 'en'])\n",
    "    transcript = \"\"\n",
    "    for snippet in transcription.snippets:\n",
    "        transcript += snippet.text + \" \"\n",
    "    return transcript\n",
    "\n",
    "df['transcript'] = df['videoId'].apply(lambda video_id: get_transcript_text(ytt_api, video_id))"
   ]
  },
  {
   "cell_type": "code",
   "execution_count": null,
   "id": "dcc66c1b",
   "metadata": {},
   "outputs": [],
   "source": [
    "transcription = ytt_api.fetch(video_id, languages=['ko', 'en'])"
   ]
  },
  {
   "cell_type": "code",
   "execution_count": 63,
   "id": "110d7078",
   "metadata": {},
   "outputs": [
    {
     "data": {
      "text/html": [
       "<div>\n",
       "<style scoped>\n",
       "    .dataframe tbody tr th:only-of-type {\n",
       "        vertical-align: middle;\n",
       "    }\n",
       "\n",
       "    .dataframe tbody tr th {\n",
       "        vertical-align: top;\n",
       "    }\n",
       "\n",
       "    .dataframe thead th {\n",
       "        text-align: right;\n",
       "    }\n",
       "</style>\n",
       "<table border=\"1\" class=\"dataframe\">\n",
       "  <thead>\n",
       "    <tr style=\"text-align: right;\">\n",
       "      <th></th>\n",
       "      <th>videoId</th>\n",
       "      <th>title</th>\n",
       "      <th>channelId</th>\n",
       "      <th>channelTitle</th>\n",
       "      <th>publishedAt</th>\n",
       "      <th>subscriberCount</th>\n",
       "      <th>videoUrl</th>\n",
       "      <th>transcript</th>\n",
       "    </tr>\n",
       "  </thead>\n",
       "  <tbody>\n",
       "    <tr>\n",
       "      <th>0</th>\n",
       "      <td>E34kWPr8alA</td>\n",
       "      <td>[LIVE] 미국 조지아 소재 우리 기업 배터리공장 수색 관련/외교부 긴급 브리핑/...</td>\n",
       "      <td>UCcQTRi69dsVYHN3exePtZ1A</td>\n",
       "      <td>KBS News</td>\n",
       "      <td>2025-09-05T10:36:48Z</td>\n",
       "      <td>3420000</td>\n",
       "      <td>https://www.youtube.com/watch?v=E34kWPr8alA</td>\n",
       "      <td>네. 바로 시작하도록 하겠습니다. 미국 이민세관 단속국은 현지 시간 9월 4일 목요...</td>\n",
       "    </tr>\n",
       "    <tr>\n",
       "      <th>1</th>\n",
       "      <td>AIXFmdzpzDg</td>\n",
       "      <td>[마켓A컷] &amp;quot;2차전지의 날&amp;quot; 대형 계약 터지네!</td>\n",
       "      <td>UC8Sv6O3Ux8ePVqorx8aOBMg</td>\n",
       "      <td>이데일리TV</td>\n",
       "      <td>2025-09-04T07:45:42Z</td>\n",
       "      <td>326000</td>\n",
       "      <td>https://www.youtube.com/watch?v=AIXFmdzpzDg</td>\n",
       "      <td>준비한 사진은요.이 배터리와 관련된 사진을 저희가 준비를 했습니다. 오늘 2차전지 ...</td>\n",
       "    </tr>\n",
       "  </tbody>\n",
       "</table>\n",
       "</div>"
      ],
      "text/plain": [
       "       videoId                                              title  \\\n",
       "0  E34kWPr8alA  [LIVE] 미국 조지아 소재 우리 기업 배터리공장 수색 관련/외교부 긴급 브리핑/...   \n",
       "1  AIXFmdzpzDg              [마켓A컷] &quot;2차전지의 날&quot; 대형 계약 터지네!   \n",
       "\n",
       "                  channelId channelTitle           publishedAt  \\\n",
       "0  UCcQTRi69dsVYHN3exePtZ1A     KBS News  2025-09-05T10:36:48Z   \n",
       "1  UC8Sv6O3Ux8ePVqorx8aOBMg       이데일리TV  2025-09-04T07:45:42Z   \n",
       "\n",
       "   subscriberCount                                     videoUrl  \\\n",
       "0          3420000  https://www.youtube.com/watch?v=E34kWPr8alA   \n",
       "1           326000  https://www.youtube.com/watch?v=AIXFmdzpzDg   \n",
       "\n",
       "                                          transcript  \n",
       "0  네. 바로 시작하도록 하겠습니다. 미국 이민세관 단속국은 현지 시간 9월 4일 목요...  \n",
       "1  준비한 사진은요.이 배터리와 관련된 사진을 저희가 준비를 했습니다. 오늘 2차전지 ...  "
      ]
     },
     "execution_count": 63,
     "metadata": {},
     "output_type": "execute_result"
    }
   ],
   "source": [
    "df"
   ]
  },
  {
   "cell_type": "code",
   "execution_count": 66,
   "id": "1e052ff9",
   "metadata": {},
   "outputs": [],
   "source": [
    "from prompt_templates import youtube_news_summary_prompt"
   ]
  },
  {
   "cell_type": "code",
   "execution_count": 78,
   "id": "25a8c27e",
   "metadata": {},
   "outputs": [],
   "source": [
    "videos_block = [\n",
    "    {\n",
    "        \"url\": row[\"videoUrl\"],\n",
    "        \"published_at\": row[\"publishedAt\"],\n",
    "        \"transcript\": row.get(\"transcript\", \"\")\n",
    "    }\n",
    "    for _, row in df.iterrows()\n",
    "]"
   ]
  },
  {
   "cell_type": "code",
   "execution_count": 76,
   "id": "2d19c755",
   "metadata": {},
   "outputs": [],
   "source": [
    "s = youtube_news_summary_prompt.format_messages(\n",
    "    company_name=company_name,\n",
    "    videos_block=videos,\n",
    "    target_language=language,\n",
    ")"
   ]
  },
  {
   "cell_type": "code",
   "execution_count": 77,
   "id": "38bfb425",
   "metadata": {},
   "outputs": [
    {
     "name": "stdout",
     "output_type": "stream",
     "text": [
      "\n",
      "You are a financial news analyst and political analyst for individual equity investors.\n",
      "\n",
      "Inputs:\n",
      "- Company (optional): LG에너지 솔루션\n",
      "- Output language: ko  # \"en\" for English, \"ko\" for Korean\n",
      "- Videos (one or more entries with URL, PublishedAt, Transcript text; Title optional):\n",
      "[{'url': 'https://www.youtube.com/watch?v=E34kWPr8alA', 'published_at': '2025-09-05T10:36:48Z', 'transcript': '네. 바로 시작하도록 하겠습니다. 미국 이민세관 단속국은 현지 시간 9월 4일 목요일 미조지아주에 소재한 우리 기업의 배터리 공장 건설 현장을 단속하였으며 그 과정에서 다수에 우리 국민이 구금되었습니다. 미국의 법 집행 과정에서 우리 투자 업체의 경제 활동과 우리 국민의 권위 부당하게 침해되어서는 안 될 것입니다.이 사건에 대해 주미국 대사관 총영사와 주 애틀랜타 총영사관의 영사를 현장에 급화하고 현지 공간을 중심으로 현장 대책 반을 다시 하겠습니다.이 이 사건에 대해 주미국 대사관 총사와 주 애런타 총영사관의 영사를 현장에 급화하고 현지 공관을 중심으로 현장 대책반을 출범시킬 것을 지시하는 등 적극 대처 중입니다. 서울에서도 오늘 주한 미국 대사관을 통해 우리의 우려와 유감의 뜻을 전달하고 우리 국민의 정당한 권위 치해당하지 않도록 각별히 유의해 줄 것을 당부하였습니다. 네. 이상입니다. 네. 바로 시작하도록 하겠습니다. 미국 이민세관 단속국은 현지 시간 9월 4일 목요일 미조지아주에 소재한 우리 기업의 배터리 공장 건설 현장을 단속하였으며 그 과정에서 다수에 우리 국민이 구금되었습니다. 미국의 법 집행 과정에서 우리 투자 업체의 경제 활동과 우리 국민의 권위 부당하게 침해되어서는 안 될 것입니다.이 사건에 대해 주미국 대사관 총영사와 주 애틀랜타 총영사관의 영사를 현장에 급파하고 현지 공간을 중심으로 현장 대책을 다시 하겠습니다.이 이 사건에 대해 주미국 대사관 총영사와 주 애텔런타 총영사관의 영사를 현장에 급파하고 현지 공관을 중심으로 현장 대책반을 출범시킬 것을 지시하는 등 적극 대처 중입니다. 서울에서도 오늘 주한 미국 대사관을 통해 우리의 우려와 유감의 뜻을 전달하고 우리 국민의 정당한 권위 치해당하지 않도록 각별히 유의해 줄 것을 당부하였습니다. 네. 이상입니다. 네. 바로 시작하도록 하겠습니다. 미국 이민세관 단속국은 현지 시간 9월 4일 목요일 미조지아주에 소재한 우리 기업의 배터리 공장 건설 현장을 단속하였으며 그 과정에서 다수에 우리 국민이 구금되었습니다. 미국의 법 집행 과정에서 우리 투자 업체의 경제 활동과 우리 국민의 권위 부당하게 침해되어서는 안 될 것입니다.이 사건에 대해 주미국 대사관 총영사와 주 애틀랜타 총영사관의 영사를 현장에 급화하고 현지 공간을 중심으로 현장 대책을 다시 하겠습니다.이 이 사건에 대해 주미국 대사관 총사와 주 애런타 총영사관의 영사를 현장에 급화하고 현지 공관을 중심으로 현장 대책반을 출범시킬 것을 지시하는 등 적극 대처 중입니다. 서울에서도 오늘 주한 미국 대사관을 통해 우리의 우려와 유감의 뜻을 전달하고 우리 국민의 정당한 권위 치해당하지 않도록 각별히 유의해 줄 것을 당부하였습니다. 네. 이상입니다. 네. 바로 시작하도록 하겠습니다. 미국 이민세관 단속국은 현지 시간 9월 4일 목요일 미조지아주에 소재한 우리 기업의 배터리 공장 건설 현장을 단속하였으며 그 과정에서 다수에 우리 국민이 구금되었습니다. 미국의 법 집행 과정에서 우리 투자 업체의 경제 활동과 우리 국민의 권위 부당하게 침해되어서는 안 될 것입니다.이 사건에 대해 주미국 대사관 총영사와 주 애틀랜타 총영사관의 영사를 현장에 급화하고 현지 공간을 중심으로 현장 대책을 다시 하겠습니다.이 이 사건에 대해 주미국 대사관 총사와 주 애런타 총영사관의 영사를 현장에 급화하고 현지 공관을 중심으로 현장 대책반을 출범시킬 것을 지시하는 등 적극 대처 중입니다. 서울에서도 오늘 주한 미국 대사관을 통해 우리의 우려와 유감의 뜻을 전달하고 우리 국민의 정당한 권위 치해당하지 않도록 각별히 유의해 줄 것을 당부하였습니다. 네. 이상입니다. 네. 바로 시작하도록 하겠습니다. 미국 이민세관 단속국은 현지 시간 9월 4일 목요일 미조지아주에 소재한 우리 기업의 배터리 공장 건설 현장을 단속하였으며 그 과정에서 다수에 우리 국민이 구금되었습니다. 미국의 법 집행 과정에서 우리 투자 업체의 경제 활동과 우리 국민의 권위 부당하게 침해되어서는 안 될 것입니다.이 사건에 대해 주미국 대사관 총영사와 주애틀랜타 총영사관의 영사를 현장에 급화하고 현지 공간을 중심으로 현장 대책을 다시 하겠습니다.이 이 사건에 대해 주미국 대사관 총사와 주 애런타 총영사관의 영사를 현장에 급화하고 현지 공관을 중심으로 현장 대책반을 출범시킬 것을 지시하는 등 적극 대처 중입니다. 서울에서도 오늘 주한 미국 대사관을 통해 우리의 우려와 유감의 뜻을 전달하고 우리 국민의 정당한 권위 치해당하지 않도록 각별히 유의해 줄 것을 당부하였습니다. 네. 이상입니다. 네. 바로 시작하도록 하겠습니다. 미국 이민세관 단속국은 현지 시간 9월 4일 목요일 미조지아주에 소재한 우리 기업의 배터리 공장 건설 현장을 단속하였으며 그 과정에서 다수에 우리 국민이 구금되었습니다. 미국의 법 집행 과정에서 우리 투자 업체의 경제 활동과 우리 국민의 권위 부당하게 침해되어서는 안 될 것입니다.이 사건에 대해 주미국 대사관 총영사와 주 애틀랜타 총영사관의 영사를 현장에 급화하고 현지 공간을 중심으로 현장 대책 반을 다시 하겠습니다.이 이 사건에 대해 주미국 대사관 총사와 주 애런타 총영사관의 영사를 현장에 급화하고 현지 공관을 중심으로 현장 대책반을 출범시킬 것을 지시하는 등 적극 대처 중입니다. 서울에서도 오늘 주한 미국 대사관을 통해 우리의 우려와 유감의 뜻을 전달하고 우리 국민의 정당한 권위 치해당하지 않도록 각별히 유의해 줄 것을 당부하였습니다. 네. 이상입니다. ', 'title': '[LIVE] 미국 조지아 소재 우리 기업 배터리공장 수색 관련/외교부 긴급 브리핑/2025년 9월 5일(금)/KBS'}, {'url': 'https://www.youtube.com/watch?v=AIXFmdzpzDg', 'published_at': '2025-09-04T07:45:42Z', 'transcript': '준비한 사진은요.이 배터리와 관련된 사진을 저희가 준비를 했습니다. 오늘 2차전지 관련 기업들의 상승세가 굉장히 눈에 띄는데요. 과연 2차전지가 풀 충전을 완료하고 드라이브의 시동을 걸 수 있을지 함께 알아보도록 하겠습니다. 어, 오늘 2차전지 관련 기업들 사실 지금 보유하고 계신 분들은요. 수익률 측면에서 아쉬운 나나를 좀 보고 계실 것 같습니다. 일주일 사이 2차전지의 ETF 성적표를 보게 되니까요. 지금 코덱스 2차전지 레버리지 같은 경우에는 16%가량 하락을 기록한 것으로 확인이 되고 있습니다. 최근 한 주간 지속적으로 내림세를 그리고 있는데 여기에다가 하락국이 큰 ETF 열개가 대부분 국내 2차전지 관련 ETF인 것으로 확인이 되면서 2차전지 관련된 ETF를 갖고 계신 분들 같은 경우에는 상대적으로 큰 소외감을 느끼고 계실 것 같습니다. LNF 그리고 포스코 퓨처엠고 LG 화학과 같은 2차전지를 대표하는 기업들의 주가가 하락하면서 ETF의 수익률 역시 저조한 것으로 확인이 되고 있는데요. 개인 투자자분들은 저가 매수를 하면서 대규모 순매수가 나왔는데 손실이 더 커지는 그러한 악순환에 빠지게 된 것입니다. 인버스 같은 경우 오히려 8% 올랐고요. 우리나라 건 하락하고 있지만 중국 2차전지 ETF 같은 경우에는 오히려 8% 가량 상승하면서 우리나라 배터리 기업과 중국의 배터리 기업들의 온도차가 좀 뚜렷하게 확인되고 있는 요즘입니다. 어 이러학 이렇게 악재가 나오고 있는 이유는요. 수출분에서 조금 어 하락세가 나오기 때문이겠죠. 다음 장을 통해서이어서 이야기 나눠 보도록 하겠습니다. 2차전 지난 달 수출이 30%가량 감소한 것으로 확인이 되고 있습니다. 4억 9천만 달러로 집게가 되고 있는데 우선 주요 원인은 크게 두 가지로 나눌 수 있을 것 같습니다. 미국에서 인플레이션 감촉법으로 인해서 좀 현지 생산에 대한 전환 속도가 굉장히 빨라지고 있는 상황인데요. 그러기 때문에 미국 향수출 ESS가 무려 42%가량 감소를 했고 전기차 배터리 부분 같은 경우에도 31% 가량의 낙폭을 그리는 것으로 확인이 됐습니다. 여기에 두 번째로는요. 리튬과 니켈의 원자재 가격이 다시금 좀 하락하고 있다는 것도 영향을 주고 있고요. 이로 인해 8월에 2차전지 수출액 같은 경우에는 31.3% 3% 전년 대비 감소를 했습니다. 반면에 완성차 수출 같은 경우에는 선전을 한 모습이 확인되고 있는데요. 순수 전기차 같은 경우에는 68% 가량이나 급증을 했고요. 하이브리드도 13%가량 급증하면서 전개차 수요는 지속적으로 늘어나고 있습니다만 배터리 수출은 감소하고 있는 아이러니한 상황이 이어지고 있습니다. 특히나 지역별로 차별한 모습이 뚜렷하게 나타나고 있는데요. 미국 같은 경우에는 앞서 말씀드렸던 것처럼 현지 생산을 강하게 하라는 규제로 수출이 급격하게 감소하고 있지만 유럽 시장 같은 경우에는 전기차 보급과 재생 에너지에 대한 수요가 유지가 되면서 그래도 선방했다라는 평가를 받고 있고요. 중국과 아세안 같은 경우에는 경기 둔화세에 접어들었고 역시나 현재에서 조달하려는 움직임이 나타나고 있기 때문에 둔화 추세가 포착이 되고 있는 상황입니다. 어 국내 배터리 3사 같은 경우에는요. 이러한이 변화하는 국제 정세에 발맞춰서 현지화를 지금 지속적으로 하고 있는 상황이고요. 어 그렇기 때문에 단기적으로는 실적에 부담스러울 수는 있겠습니다만 ESS라든가 현지 생산에 대한 수주가 지속적으로 늘어나게 된다면 실적 개선세로 중장기적으로 좀 기대해 볼 만하다라는 코멘트도 나오고 있습니다. 어 이러한 가운데 2차전지 관련 기업들 기술 개발에 대한 소식이 전해지고 있습니다. 오늘 LG 에너지 솔루션이 12분 급속 충전 기술을 개발했다라는 소식이 전해지면서 어 리튬 관련된 기업들의 주가가 강하게 탄력을 받고 있습니다. 카이스 연구팀과 공동으로 연를 한 것인데요. 어 흑연 음극을 통해서 리튬 메탈을 대체하는 그런 연구고요. 발목할 만한 성과가 도출된 것으로 확인이 되고 있습니다. 보시는 것처럼 기존에 리튬 이혼전지 같은 경우에는요. 충전 시간이 12분이지만 주행 거리가 상대적으로 짧다는 단점을 갖고 있었고요.이를 어 개선하기 위해서 기존의 리튬 메탈 전제를 선택을 하려고 했는데 주행 거리는 늘어났습니다. 그런데 충전 시간이 급격하게 증가한 것으로 확인이 되고 있습니다. 어 그런데 급속 충전이 불가능하다는 치명적인 단점을 갖고 있었고요. 그게 내부의 단락이 발생을 했기 때문입니다.이 이 내부 단락 같은 경우에는 어 시청자분들께서 잘 알고 계시겠지만 2차전지는 응극제와 양극제를 연결하는 전해질이 필수적으로 필요합니다. 그래야지 어 화재라든가 이런 걸 좀 예방을 할 수 있는데요. 리튬 메탈에 대한 충전을 지속하게 된다면 이게 이렇게 보시는 것처럼 길게 자라나게 되고요. 그렇게 된다면 전해제를 통과하지 않고 음극제에서 양극제로 전류가 흐르기 때문에 급속 충전을 했을 때 화제가 발생할 수 있다는 겁니다. 그러한 단점을 보완한게 지금 LG 에너지 솔루션이 이제 개발한 거고요. 그렇기 때문에 충전 시간과 주행 거리가 모두 다 획기적으로 개선된 기술이라고 이야기가 될 수 있겠습니다. 이로 인해서 리튬의 사용이 더 늘어날 것이다라는 긍정적인 전망이 나오고 있고요. 그로 인해서 오늘 리튬 관련된 기업들의 주가가 강한 상승이 나오고 있다는 점은 참고해 보시면 좋을 것 같습니다. 이와 함께 계약 소식도 최근에 많이 들려오고 있습니다. 어, LG 에너지 솔루션이 어제 벤츠와 초대형 계약 소식이 전해졌었죠. 금액으로 따지면 15조 가량이고요. 전기차 150만 대에서 최대 200만 대까지 적용 가능한 분량이라고 합니다. 4 원통형 시리즈가 탑재가 되는 것으로 확인되고 있고 SK온 같은 경우에는 북미의 시장이 진출을 했다라는 수식이 전해지는데 지금 1기가WC가 확정이고요. 6.2GW가 기가W씨가 우선협상 대상권자로 지금 현정이 되어 있는 상황입니다. 만약에 7.1W의 기W의 계약이 진행이 된다면 시장에선 한 2조가량의 규모로 추산이 되고 있고요. LFP 파우치형 전용 배터리다라고 지금 이야기가 나오고 있습니다. 두 회사 모두 다 이번 계약이 주목받는 건 어 유럽 시장 같은 경우에도 그리고 ESS 특히나 LFPS 시장도 모두 다 중국이 굉장히 잘하고 있는 분야이기 때문이고요. 중국이 선점하고 있는이 분야를 우리나라가 지속적으로 좀 뺏사오고 있는 그러한 이야기가 전해지면서 관련돼서 우리나라 2차전지의 먹걸이가 더 커질 수 있지 않을까라는 기대감으로 어 시장에서 좀 반응을 하고 있는 듯합니다. 이렇게 대형 3사뿐만 아니라요. 오늘 중소형 관련 기업들의 실적 흐름도 좀 개선세가 지승이 되고 있습니다. 소부장 기업들도 이제는 적자를 탈피하거나 적자폭을 축소하고 있는듯한 움직임이 포착이 되고 있는데요. 에코핸드린 같은 경우에는 2분기 매출액이 396억 원을 기록하면서 하반기는 더 좋아질 것이다라는 이야기가 나오고 있고요. 전구체 공장을 중공하고 있는 그런 호재거리도 있습니다. J텍 같은 경우에도 2분기 매출액이 10 113억 원으로 26% 가량 늘어났는데 영어위익 드디어 흑자 전환하는데 성공을 했고요. 계속해서 신사업을 추진하고 있다는 점도 주목해 보시면 좋을 것 같습니다. 필에너지 같은 경우에도요. 직전 분기가 10억이었는데 2분기 매출액이 무려 229억 원으로 정말 크게 개선이 된 것은 물론이고요. 영업 손실 같은 경우 저자폭이 절반가량으로 줄어든 것으로 확인되고 있습니다. 소재 부품 장비까지 지금 실적의 개선 흐름이 나오고 있다는 것은 전반적으로 2차전지 산업이 저점을 듣고 반등하고 있다라는 신호로 해석을 해 볼 수 있을 것 같고요. 특히나 우리나라가 전기차 수요가 둔화하다 보니까 ESS라든가 전고체 요러 부분으로 다변화를 하고 있는게 드디어 실적으로 이어지고 있다라는 부분도 주목을 해 보시면 좋을 것 같습니다. 만약에 하반기에 전방 산업이 어 계속해서 증설이 진행이 된다면 실적의 개선세는 더 좋아질 수밖에 없고요. 배터리 3, 4에서 시작된 수주 소식이 그 아래에 있는 기업들까지의 실적 개선으로 이어질 수 있다라는 긍정적인 전망이 나오고 있습니다. 아직 2차전지는 중국이라는 넘어야 할 산이 굉장히 크게 있습니다. 하지만 그럼에도 불구하고 ESS라던가 아니면 프리미엄 전기차 배터리 시장에서 선전을 하고 있는만큼 2차전지 관련 기업들의 반등도 기대를 해 보도록 하겠습니다. He. ', 'title': '[마켓A컷] &quot;2차전지의 날&quot; 대형 계약 터지네!'}]\n",
      "\n",
      "Instructions:\n",
      "- Read the provided transcripts carefully; base your summary primarily on transcript content rather than only titles.\n",
      "- Weigh recency: prefer newer information when there are conflicts; call out outdated items explicitly with dates.\n",
      "- Summarize key topics in the videos, then analyze how those topics may impact the company (near-term and mid-term).\n",
      "- Extract investor-relevant details when present: catalysts, guidance/outlook, management quotes, numbers (revenue, EPS, margin, units),\n",
      "  regulatory/legal items, macro impacts, competitive dynamics, product/tech updates, valuation/price targets.\n",
      "- Deduplicate across videos; consolidate overlapping facts. If claims conflict, present both and mark uncertainty.\n",
      "- If a video is unavailable or lacks usable content/transcript, list it under Unprocessed with a short reason.\n",
      "- If target_language is \"ko\", write entirely in Korean; otherwise, write in English.\n",
      "\n",
      "Deliverable (use these sections):\n",
      "1) Executive Summary\n",
      "2) Dated Key Points \n",
      "3) Impact on Company (near-term vs long-term)\n",
      "4) Risks & Uncertainties\n",
      "5) Actionable Takeaways\n",
      "6) Sources (URL with date; include title if provided)\n",
      "\n"
     ]
    }
   ],
   "source": [
    "print(s[0].content)"
   ]
  },
  {
   "cell_type": "markdown",
   "id": "b01e283b",
   "metadata": {},
   "source": [
    "LG 에너지 솔루션 기업정보 를 검색 해서 여러개의 동영상을 본 결과 전부 조자아주에서 일하는 한국인들 구금 된거 밖에 안나오는데<br>\n",
    "요약 해달라고 하면 전혀 그런 얘기를 이해하지 못하거나/일부러 없애는것 같다.\n",
    "\n",
    "예:\n",
    "`https://www.youtube.com/watch?v=E34kWPr3alA` 의 경우 외교부장관이 미국 조지아 주에서 배터리공장 털린거 얘기만! 하는데도 \"LG에너지솔루션이 북미 시장 선점과 IRA 수혜를 통해 다가오는 배터리 빅 사이클에서 강력한 성장 동력을 확보하고 있음을 강조하며 긍정적인 투자 관점을 제시합니다.\" 이라고 하고 responase에 이 관련 얘기는 하나도 없다.\n",
    "\n",
    "\n",
    "내생각엔 영상 처리 못해서 default로 그냥 검색 한듯... ChatGPT나 Claude UI에선 제대로 작동."
   ]
  },
  {
   "cell_type": "code",
   "execution_count": 81,
   "id": "6498c2f8",
   "metadata": {},
   "outputs": [
    {
     "name": "stdout",
     "output_type": "stream",
     "text": [
      "number of videos:  2\n"
     ]
    }
   ],
   "source": [
    "chain = youtube_news_summary_prompt | gemini\n",
    "\n",
    "print(\"number of videos: \", len(df['videoUrl']))\n",
    "response = chain.invoke({\n",
    "    \"company_name\": company_name,\n",
    "    \"videos_block\": videos_block,\n",
    "    \"target_language\": language\n",
    "})"
   ]
  },
  {
   "cell_type": "code",
   "execution_count": 82,
   "id": "fe4e5417-876b-404f-afc8-164197c053d6",
   "metadata": {},
   "outputs": [
    {
     "name": "stdout",
     "output_type": "stream",
     "text": [
      "## LG에너지솔루션 투자 분석: 미국 공장 단속, 기술 혁신 및 시장 동향\n",
      "\n",
      "### 1) Executive Summary\n",
      "\n",
      "최근 LG에너지솔루션과 관련된 주요 이슈는 미국 조지아주 배터리 공장 건설 현장에서 발생한 미국 이민세관 단속국의 단속 사건입니다. 이 과정에서 다수의 한국 국민이 구금되었으며, 한국 정부는 이에 대해 적극적으로 대응하고 있습니다. 이 사건은 LG에너지솔루션(또는 관련 한국 기업)의 현지 사업 운영에 단기적인 불확실성을 야기할 수 있습니다.\n",
      "\n",
      "한편, 2차전지 산업 전반은 최근 수출 감소와 ETF 수익률 하락 등으로 부진한 모습을 보이고 있습니다. 그러나 LG에너지솔루션은 KAIST와 공동으로 12분 급속 충전 기술을 개발했다는 소식과 메르세데스-벤츠와 약 15조원 규모의 초대형 계약을 체결했다는 긍정적인 소식을 발표했습니다.\n",
      "\n",
      "단기적으로는 미국 공장 단속 관련 불확실성과 시장 전반의 부진이 투자 심리에 부담으로 작용할 수 있으나, 중장기적으로는 기술 리더십 확보와 대규모 수주를 통한 안정적인 성장 동력이 기대됩니다.\n",
      "\n",
      "### 2) Dated Key Points\n",
      "\n",
      "*   **2025년 9월 5일 (정치/규제):** 미국 이민세관 단속국(ICE)이 9월 4일(현지시간 목요일) 미 조지아주에 소재한 한국 기업의 배터리 공장 건설 현장을 단속하여 다수의 한국 국민이 구금되었습니다. 한국 정부는 주미국 대사관 총영사와 주 애틀랜타 총영사관 영사를 현장에 급파하고 현장 대책반을 출범시키는 등 적극 대처 중입니다. 서울에서도 주한 미국 대사관을 통해 우려와 유감의 뜻을 전달하고 한국 국민의 정당한 권익 침해 방지를 당부했습니다. (해당 기업명은 명시되지 않았으나, 조지아주에 대규모 배터리 공장을 건설 중인 한국 기업 중 LG에너지솔루션이 유력하게 거론될 수 있습니다.)\n",
      "*   **2025년 9월 4일 (산업/기업):**\n",
      "    *   **시장 동향:** 최근 1주일간 국내 2차전지 관련 ETF(예: 코덱스 2차전지 레버리지)가 16%가량 하락하는 등 전반적인 부진을 겪고 있습니다. LNF, 포스코퓨처엠, LG화학 등 대표 기업들의 주가 하락으로 ETF 수익률도 저조합니다. 개인 투자자들의 저가 매수에도 손실이 커지는 악순환이 나타나고 있으며, 중국 2차전지 ETF는 8% 상승하며 국내 시장과 대조적인 모습을 보였습니다.\n",
      "    *   **수출 동향 (8월):** 2차전지 수출액은 전년 대비 30% 감소한 4억 9천만 달러를 기록했습니다. 주요 원인은 미국 인플레이션 감축법(IRA)으로 인한 현지 생산 전환 가속화(미국향 ESS 42% 감소, 전기차 배터리 31% 감소)와 리튬, 니켈 등 원자재 가격 하락입니다. 반면 완성차 수출(순수 전기차 68% 급증, 하이브리드 13% 급증)은 선전하며 배터리 수출 감소와 상반되는 아이러니한 상황이 이어지고 있습니다.\n",
      "    *   **LG에너지솔루션 기술 개발:** KAIST 연구팀과 공동으로 12분 급속 충전 기술을 개발했습니다. 이는 흑연 음극을 통해 리튬 메탈을 대체하는 연구로, 기존 리튬이온전지의 짧은 주행거리와 리튬메탈전지의 급속 충전 불가(내부 단락 발생) 단점을 보완하여 충전 시간과 주행 거리를 획기적으로 개선한 기술입니다. 이로 인해 리튬 사용이 더 늘어날 것이라는 긍정적인 전망이 나옵니다.\n",
      "    *   **LG에너지솔루션 대규모 계약:** 메르세데스-벤츠와 약 15조원 규모의 초대형 계약을 체결했습니다. 이는 전기차 150만 대에서 최대 200만 대까지 적용 가능한 분량으로, 4680 원통형 배터리가 탑재될 예정입니다.\n",
      "    *   **경쟁사 동향:** SK온은 북미 시장에 진출하여 1GWh 확정, 6.2GWh 우선협상 대상(총 7.1GWh, 약 2조원 규모 추산)으로 LFP 파우치형 배터리를 공급할 예정입니다. LG에너지솔루션과 SK온 모두 중국이 강세를 보이는 유럽 시장, ESS, LFP 시장에서 성과를 내고 있어 한국 2차전지 산업의 먹거리가 확대될 것이라는 기대감이 있습니다.\n",
      "    *   **소부장 기업 실적 개선:** 에코앤드림, J-Tech, 필에너지 등 중소형 소부장 기업들도 매출 증가 및 적자폭 축소/흑자 전환 등 실적 개선 흐름을 보이고 있습니다. 이는 2차전지 산업 전반이 저점을 찍고 반등하며, ESS 및 전고체 등 다변화 노력이 실적으로 이어지고 있다는 신호로 해석됩니다.\n",
      "\n",
      "### 3) Impact on Company (near-term vs long-term)\n",
      "\n",
      "*   **단기적 영향:**\n",
      "    *   **부정적:** 미국 조지아 공장 단속 사건은 LG에너지솔루션(혹은 관련 한국 기업)의 현지 생산 계획에 불확실성을 가중시키고, 건설 지연, 추가 비용 발생, 규제 리스크 증가 등으로 이어질 수 있습니다. 이는 단기적인 투자 심리에 부정적인 영향을 미칠 것입니다.\n",
      "    *   **부정적:** 2차전지 산업 전반의 수출 부진과 주가 하락세는 LG에너지솔루션의 주가에도 단기적인 하방 압력으로 작용할 수 있습니다.\n",
      "    *   **긍정적:** 12분 급속 충전 기술 개발과 메르세데스-벤츠와의 대규모 계약 소식은 단기적인 악재를 일부 상쇄하며 투자자들에게 긍정적인 신호를 줄 수 있습니다.\n",
      "*   **중장기적 영향:**\n",
      "    *   **긍정적:** 12분 급속 충전 기술은 전기차 시장의 핵심 경쟁력으로, LG에너지솔루션이 기술 리더십을 확보하고 미래 시장을 선점하는 데 중요한 역할을 할 것입니다. 이는 장기적인 매출 증대와 시장 점유율 확대에 기여할 수 있습니다.\n",
      "    *   **긍정적:** 메르세데스-벤츠와의 대규모 계약은 안정적인 수주 물량을 확보하고, 특히 4680 원통형 배터리 등 차세대 제품의 시장 확대를 가속화할 것입니다. 이는 장기적인 실적 성장 동력으로 작용합니다.\n",
      "    *   **긍정적:** 미국 IRA에 대응한 현지 생산 확대 전략은 단기적인 수출 감소를 상쇄하고, 장기적으로는 미국 시장 내 입지를 강화하며 보조금 혜택을 누릴 수 있게 합니다. (단, 조지아 공장 단속 이슈 해결이 전제되어야 함).\n",
      "    *   **긍정적:** ESS 및 프리미엄 전기차 배터리 시장에서의 선전은 중국과의 경쟁 심화 속에서도 한국 배터리 기업의 차별화된 성장 전략이 유효함을 보여줍니다.\n",
      "\n",
      "### 4) Risks & Uncertainties\n",
      "\n",
      "*   **미국 조지아 공장 단속 관련 불확실성:** 단속의 구체적인 원인, 구금된 한국 국민의 상황, 법적 절차, 그리고 이 사건이 공장 건설 일정 및 비용에 미칠 영향이 불확실합니다. LG에너지솔루션이 직접적인 대상인지 여부와 그 파급 효과를 면밀히 주시해야 합니다.\n",
      "*   **글로벌 2차전지 시장의 변동성:** 미국 IRA, 유럽 시장의 전기차 보급 속도, 중국 경기 둔화 등 거시경제 및 정책 변화에 따른 시장 수요 변동성이 존재합니다.\n",
      "*   **원자재 가격 변동:** 리튬, 니켈 등 핵심 원자재 가격의 등락은 배터리 제조사의 수익성에 직접적인 영향을 미칩니다.\n",
      "*   **경쟁 심화:** 중국 배터리 기업들의 기술 발전 및 가격 경쟁력 강화는 한국 기업들에게 지속적인 위협 요인입니다.\n",
      "*   **기술 개발 및 상용화 리스크:** 급속 충전 기술 등 신기술 개발은 성공적이었으나, 대량 생산 및 상용화 과정에서 예상치 못한 문제나 비용이 발생할 수 있습니다.\n",
      "\n",
      "### 5) Actionable Takeaways\n",
      "\n",
      "*   **미국 공장 단속 사태 주시:** 해당 사건이 LG에너지솔루션에 미치는 직접적인 영향과 해결 과정을 면밀히 모니터링해야 합니다. 이는 단기적인 투자 판단에 중요한 변수가 될 수 있습니다.\n",
      "*   **기술 리더십과 수주 성과에 주목:** LG에너지솔루션의 12분 급속 충전 기술 개발과 메르세데스-벤츠와의 대규모 계약은 중장기적인 성장 동력입니다. 단기적인 시장 부진 속에서도 이러한 펀더멘털 개선 요인에 집중할 필요가 있습니다.\n",
      "*   **장기적 관점 유지:** 2차전지 산업은 단기적인 부침이 있을 수 있으나, 전기차 및 에너지 저장장치 시장의 성장은 장기적인 메가트렌드입니다. LG에너지솔루션의 현지화 전략과 기술 다변화 노력이 중장기적으로 결실을 맺을지 지켜봐야 합니다.\n",
      "*   **경쟁 환경 및 정책 변화 분석:** 중국과의 경쟁 구도, 각국의 전기차 및 배터리 산업 정책 변화가 LG에너지솔루션의 사업 환경에 미치는 영향을 지속적으로 분석해야 합니다.\n",
      "\n",
      "### 6) Sources\n",
      "\n",
      "*   https://www.youtube.com/watch?v=E34kWPr8alA (2025-09-05)\n",
      "*   https://www.youtube.com/watch?v=AIXFmdzpzDg (2025-09-04)\n"
     ]
    }
   ],
   "source": [
    "print(response.content)"
   ]
  },
  {
   "cell_type": "code",
   "execution_count": 83,
   "id": "aebb4a15",
   "metadata": {},
   "outputs": [],
   "source": [
    "with open(\"data/processed/2025_09_11_LGES_news_summary.txt\", \"w\", encoding=\"utf-8\") as f:\n",
    "    f.write(response.content)"
   ]
  },
  {
   "cell_type": "markdown",
   "id": "e8520388-b8bf-4d5b-9952-cdcf28fef6ef",
   "metadata": {},
   "source": [
    "## Sending video or youtube to Gemini"
   ]
  },
  {
   "cell_type": "code",
   "execution_count": null,
   "id": "0d449b15-542f-46f1-aa30-bf18f5810ace",
   "metadata": {},
   "outputs": [],
   "source": [
    "video_bytes = open(\"/path/to/your/video.mp4\", 'rb').read()\n",
    "video_base64 = base64.b64encode(video_bytes).decode('utf-8')\n",
    "\n",
    "message = HumanMessage(\n",
    "    content=[\n",
    "        {\"type\": \"text\", \"text\": \"describe what's in this video in a sentence\"},\n",
    "        {\n",
    "            \"type\": \"file\",\n",
    "            \"source_type\": \"base64\",\n",
    "            \"mime_type\": \"video/mp4\",\n",
    "            \"data\": video_base64\n",
    "        }\n",
    "    ]\n",
    ")\n",
    "ai_msg = llm.invoke([message])\n",
    "ai_msg.content\n",
    "\n",
    "message = HumanMessage(\n",
    "    content=[\n",
    "        {\"type\": \"text\", \"text\": \"summarize the video in 3 sentences.\"},\n",
    "        {\n",
    "            \"type\": \"media\",\n",
    "            \"file_uri\": \"https://www.youtube.com/watch?v=9hE5-98ZeCg\",\n",
    "            \"mime_type\": \"video/mp4\",\n",
    "        }\n",
    "    ]\n",
    ")\n",
    "ai_msg = llm.invoke([message])\n",
    "ai_msg.content"
   ]
  }
 ],
 "metadata": {
  "kernelspec": {
   "display_name": "venv_rag",
   "language": "python",
   "name": "python3"
  },
  "language_info": {
   "codemirror_mode": {
    "name": "ipython",
    "version": 3
   },
   "file_extension": ".py",
   "mimetype": "text/x-python",
   "name": "python",
   "nbconvert_exporter": "python",
   "pygments_lexer": "ipython3",
   "version": "3.10.14"
  }
 },
 "nbformat": 4,
 "nbformat_minor": 5
}
