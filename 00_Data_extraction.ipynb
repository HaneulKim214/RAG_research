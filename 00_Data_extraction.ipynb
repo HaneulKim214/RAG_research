{
 "cells": [
  {
   "cell_type": "code",
   "execution_count": 3,
   "id": "e3528fc5-cdd6-4b33-ab3b-c57e16c68202",
   "metadata": {},
   "outputs": [],
   "source": [
    "import io, os, re, sys\n",
    "import numpy as np\n",
    "import pandas as pd\n",
    "import pytesseract\n",
    "import fitz\n",
    "import PyPDF2\n",
    "\n",
    "# Table extraction: Docling(doc:https://docling-project.github.io/docling/), tabula\n",
    "\n",
    "\n",
    "from dotenv import load_dotenv\n",
    "from PIL import Image"
   ]
  },
  {
   "cell_type": "code",
   "execution_count": 4,
   "id": "9182c975-bfa4-48dd-8b9b-fec5312ef04e",
   "metadata": {},
   "outputs": [],
   "source": [
    "from langchain_google_genai import ChatGoogleGenerativeAI\n",
    "from langchain.prompts import ChatPromptTemplate\n",
    "from langchain.chains import LLMChain\n",
    "\n",
    "# from langchain_google_genai import GoogleGenerativeAIEmbeddings\n",
    "# from langchain_google_genai import ChatGoogleGenerativeAI"
   ]
  },
  {
   "cell_type": "code",
   "execution_count": 5,
   "id": "f2e18d56-a9dc-4a69-91ec-e79e2c9f695f",
   "metadata": {},
   "outputs": [
    {
     "data": {
      "text/plain": [
       "True"
      ]
     },
     "execution_count": 5,
     "metadata": {},
     "output_type": "execute_result"
    }
   ],
   "source": [
    "from dotenv import load_dotenv\n",
    "load_dotenv()"
   ]
  },
  {
   "cell_type": "code",
   "execution_count": null,
   "id": "43763896-eb3e-4459-a529-545d1bc63dc1",
   "metadata": {},
   "outputs": [],
   "source": [
    "llm = ChatGoogleGenerativeAI(\n",
    "            model=\"gemini-2.5-flash\",\n",
    "            google_api_key=os.getenv(\"GOOGLE_API_KEY\"), \n",
    "            temperature=0.1\n",
    "        )\n",
    "embeddings = GoogleGenerativeAIEmbeddings(\n",
    "            model=\"models/embedding-001\",\n",
    "            google_api_key=os.getenv(\"GOOGLE_API_KEY\")\n",
    "        ) "
   ]
  },
  {
   "cell_type": "code",
   "execution_count": null,
   "id": "c49464c7-a28f-42f1-8f43-f3126f17915a",
   "metadata": {},
   "outputs": [],
   "source": [
    "print(sys.version)\n",
    "print(sys.executable)"
   ]
  },
  {
   "cell_type": "code",
   "execution_count": null,
   "id": "b135fd84-6b9d-4320-8adc-b847bddca20a",
   "metadata": {},
   "outputs": [],
   "source": [
    "os.listdir('data/')"
   ]
  },
  {
   "cell_type": "markdown",
   "id": "d1bcb0c8-145d-4fb2-9872-f32eab7b2ef2",
   "metadata": {},
   "source": [
    "# Extract data from PDF"
   ]
  },
  {
   "cell_type": "code",
   "execution_count": null,
   "id": "c98323b4-9079-491c-98cd-b038ef1d1a1e",
   "metadata": {},
   "outputs": [],
   "source": [
    "q1_report_path = \"data/raw/2025_1Q_LGES_Audit_Report_CONFS_en.pdf\""
   ]
  },
  {
   "cell_type": "code",
   "execution_count": null,
   "id": "dab09341-9385-495a-9159-61abcc4a9465",
   "metadata": {},
   "outputs": [],
   "source": [
    "docs = fitz.open(q1_report_path)\n",
    "print(f\"total pages: {len(docs)}\")"
   ]
  },
  {
   "cell_type": "markdown",
   "id": "4dc46260-f3cb-4ccb-aaef-bca2ca35c144",
   "metadata": {},
   "source": [
    "### Docling test"
   ]
  },
  {
   "cell_type": "code",
   "execution_count": null,
   "id": "a6ee0316-9885-43c5-8b6d-1aa929972b52",
   "metadata": {},
   "outputs": [],
   "source": [
    "from docling.document_converter import DocumentConverter"
   ]
  },
  {
   "cell_type": "code",
   "execution_count": null,
   "id": "221b4800-a183-4274-aba8-0527a6e85581",
   "metadata": {},
   "outputs": [],
   "source": [
    "from pathlib import Path"
   ]
  },
  {
   "cell_type": "code",
   "execution_count": null,
   "id": "61b5f99d-a48d-47e1-a460-76d0c0c531ad",
   "metadata": {},
   "outputs": [],
   "source": [
    "# doc_converter = DocumentConverter()\n",
    "conv_res = doc_converter.convert(q1_report_path)"
   ]
  },
  {
   "cell_type": "code",
   "execution_count": null,
   "id": "4a1b7650-d421-4976-b67b-034196eae3d6",
   "metadata": {},
   "outputs": [],
   "source": [
    "doc_filename = conv_res.input.file.stem"
   ]
  },
  {
   "cell_type": "code",
   "execution_count": null,
   "id": "8d3f4a75-b706-4e67-ae92-22cc8cf02e3a",
   "metadata": {},
   "outputs": [],
   "source": [
    "doc_filename"
   ]
  },
  {
   "cell_type": "code",
   "execution_count": null,
   "id": "cee9e8aa-629b-4fc7-ada8-b9a69904f5fc",
   "metadata": {},
   "outputs": [],
   "source": [
    "dfs = {}\n",
    "for table_i, table in enumerate(conv_res.document.tables):\n",
    "    table_df: pd.DataFrame = table.export_to_dataframe()\n",
    "    # print(table_df.to_markdown())\n",
    "    dfs[f\"tabel_{table_i}\"] = table_df"
   ]
  },
  {
   "cell_type": "markdown",
   "id": "e9c1561c-99f2-4fe1-b59c-199f98f57e99",
   "metadata": {},
   "source": [
    "----"
   ]
  },
  {
   "cell_type": "code",
   "execution_count": null,
   "id": "8ab8280c-bd18-43f4-a8d7-fc863715f07a",
   "metadata": {},
   "outputs": [],
   "source": [
    "print(docs, type(docs))\n",
    "print(docs[0], type(docs[0]))"
   ]
  },
  {
   "cell_type": "code",
   "execution_count": null,
   "id": "ed64840d-3b07-4f43-939b-2f3bdb8fbfcb",
   "metadata": {},
   "outputs": [],
   "source": [
    "def is_scanned_page(page):\n",
    "    \"\"\"\n",
    "    If pages are covered with only images, run OCR.\n",
    "\n",
    "    ??? What if half is filled with images and half with text?\n",
    "    \"\"\"\n",
    "    text = page.get_text().strip()\n",
    "    images = page.get_images()\n",
    "    return len(images) > 0 and len(text) < 25 \n",
    "\n",
    "def extract_text_ocr(page):\n",
    "    pix = page.get_pixmap()\n",
    "    img_data = pix.tobytes(\"png\")\n",
    "    img = Image.open(io.BytesIO(img_data))\n",
    "\n",
    "    # text extraction using OCR\n",
    "    text = pytesseract.image_to_string(img)\n",
    "    return text\n",
    "\n",
    "def clean_text(text):\n",
    "    \"\"\"Clean extracted text\"\"\"\n",
    "    # Remove excessive whitespace\n",
    "    text = re.sub(r'\\s+', ' ', text)\n",
    "    # Remove special characters but keep punctuation\n",
    "    text = re.sub(r'[^\\w\\s\\-.,;:!?()]', '', text)\n",
    "    return text.strip()"
   ]
  },
  {
   "cell_type": "code",
   "execution_count": null,
   "id": "1d758d07-5eac-4d2d-aa30-50ec2cbbbab3",
   "metadata": {},
   "outputs": [],
   "source": [
    "full_text = \"\"\n",
    "for pg_i, page in enumerate(docs):\n",
    "    if is_scanned_page(page):\n",
    "        ocr_text = extract_text_ocr(page)\n",
    "        if ocr_text.strip():\n",
    "            page_text = ocr_text\n",
    "        else:\n",
    "            print(f\"--------OCR failed------- at page:{pg_i}\")\n",
    "    else:\n",
    "        page_text = page.get_text()\n",
    "        \n",
    "    page_text = clean_text(page_text)\n",
    "    full_text += f\"\\n--- Page {pg_i + 1} ---\\n{page_text}\\n\"\n",
    "    \n",
    "with open('data/processed/2025_1Q_LGES_Audit_Report_CONFS_en_fulltext.txt', 'w') as f:\n",
    "   f.write(full_text) "
   ]
  },
  {
   "cell_type": "code",
   "execution_count": null,
   "id": "ddb25ef3-046e-4678-9866-aeefe8635e8d",
   "metadata": {},
   "outputs": [],
   "source": [
    "# ??? Extract Table of content: So it's information can be leveraged somewher(ex: chunk by chapter, etc..)\n",
    "# table_of_contents = doc[1].get_text()\n",
    "\n",
    "# ??? Better way to extract table? and standardize schema across various reports from diff countries.\n",
    "# table = doc[5].get_text() + \"\\n\" + doc[6].get_text()"
   ]
  },
  {
   "cell_type": "markdown",
   "id": "d8ebc6e5-b7bc-46a1-8d9e-7f76e48ab11c",
   "metadata": {},
   "source": [
    "## when PDF contains incomprehensible tables\n",
    "\n",
    "Unless we use Multi-modal embedding model, or extracting tables work perfectly (Images seem fine but if table in pdf is hard to comprehend, even for human) it is better to add another chain, that is, ask LLM to generate a summary then summary becomes your texts to embed (or could feed it directly).\n",
    "- Even with Docling, if table inside pdf is not easily comprehensible (even to human), we should either add human in the loop or summarize using multimodal-models."
   ]
  },
  {
   "cell_type": "code",
   "execution_count": null,
   "id": "f38731ac-33b7-42ff-a205-1d04430b555d",
   "metadata": {},
   "outputs": [],
   "source": [
    "text_gen_model = ChatGoogleGenerativeAI(\n",
    "    model=\"gemini-2.5-flash\",\n",
    "    google_api_key=os.getenv(\"GOOGLE_API_KEY\"),\n",
    "    temperature=0.1\n",
    ")"
   ]
  },
  {
   "cell_type": "code",
   "execution_count": null,
   "id": "72ce6657-99d7-4ad9-b312-92dabd2b2565",
   "metadata": {},
   "outputs": [],
   "source": [
    "# from google import genai\n",
    "# client = genai.Client()\n",
    "# myfile = client.files.upload(file=q1_report_path)\n",
    "# myfile"
   ]
  },
  {
   "cell_type": "code",
   "execution_count": null,
   "id": "440ac8bf-6e02-4815-a566-34dbf4d6b176",
   "metadata": {},
   "outputs": [],
   "source": [
    "from google import genai\n",
    "from google.genai import types\n",
    "import time\n",
    "from langchain_google_genai import ChatGoogleGenerativeAI\n",
    "from langchain_core.messages import HumanMessage\n",
    "\n",
    "client = genai.Client()\n",
    "system_message = \"\"\"\n",
    "You are a financial analyst who have been following \n",
    "LG energy solution for few years.\n",
    "You are extremely knowlegeable about battery industry.\n",
    "From given financial report of LG energy solution, \n",
    "Create a summary report that will help investors make decisions \n",
    "on when to buy on the stock market.\n",
    "\"\"\"\n",
    "\n",
    "# Upload file\n",
    "file = client.files.upload(file=q1_report_path)\n",
    "while file.state.name == 'PROCESSING':\n",
    "    time.sleep(2)\n",
    "    file = client.files.get(name=file.name)\n",
    "\n",
    "# Create cache\n",
    "# model = 'models/gemini-1.5-flash-latest'\n",
    "# cache = client.caches.create(\n",
    "#     model=model,\n",
    "#     config=types.CreateCachedContentConfig(\n",
    "#         display_name='Cached Content',\n",
    "#         system_instruction=(system_message),\n",
    "#         contents=[file],\n",
    "#         ttl=\"300s\",\n",
    "#     )\n",
    "# )\n",
    "\n",
    "chain = fin_rep_anal_prmt | text_gen_model\n",
    "\n",
    "message = HumanMessage(content=\"\")\n",
    "response = chain.invoke({\n",
    "    \"company_name\": \n",
    "})"
   ]
  },
  {
   "cell_type": "code",
   "execution_count": null,
   "id": "a37363b6-d9db-48c9-97e5-747f34bc47b6",
   "metadata": {},
   "outputs": [],
   "source": [
    "import base64\n",
    "from langchain_core.messages import HumanMessage\n",
    "\n",
    "pdf_bytes = open(q1_report_path, 'rb').read()\n",
    "pdf_base64 = base64.b64encode(pdf_bytes).decode('utf-8')\n",
    "\n",
    "message = HumanMessage(\n",
    "    content=[\n",
    "        {\"type\": \"text\", \"text\": \"You are a financial analyst who have been following LG energy solution for few years. You are extremely knowlegeable about battery industry. From given financial report of LG energy solution, Create a summary report that will help investors make decisions on when to buy on the stock market.\"},\n",
    "        {\n",
    "            \"type\": \"file\",\n",
    "            \"source_type\": \"base64\",\n",
    "            \"mime_type\":\"application/pdf\",\n",
    "            \"data\": pdf_base64\n",
    "        }\n",
    "    ]\n",
    ")\n",
    "\n",
    "response = text_gen_model.invoke([message])"
   ]
  },
  {
   "cell_type": "code",
   "execution_count": null,
   "id": "c8364462-3568-411a-85fa-b1c3eb673506",
   "metadata": {},
   "outputs": [],
   "source": [
    "from pydantic import BaseModel, Field\n",
    "\n",
    "\n",
    "class GetWeather(BaseModel):\n",
    "    '''Get the current weather in a given location'''\n",
    "\n",
    "    location: str = Field(\n",
    "        ..., description=\"The city and state, e.g. San Francisco, CA\"\n",
    "    )\n",
    "\n",
    "\n",
    "class GetPopulation(BaseModel):\n",
    "    '''Get the current population in a given location'''\n",
    "\n",
    "    location: str = Field(\n",
    "        ..., description=\"The city and state, e.g. San Francisco, CA\"\n",
    "    )\n",
    "\n",
    "\n",
    "llm_with_tools = text_gen_model.bind_tools([GetWeather, GetPopulation])\n",
    "ai_msg = llm_with_tools.invoke(\n",
    "    \"Which city is hotter today and which is bigger: LA or NY?\"\n",
    ")\n",
    "ai_msg.tool_calls"
   ]
  },
  {
   "cell_type": "code",
   "execution_count": null,
   "id": "50cf0d02-9cf9-4705-a066-9f66077dcd17",
   "metadata": {},
   "outputs": [],
   "source": [
    "ai_msg.content"
   ]
  },
  {
   "cell_type": "code",
   "execution_count": null,
   "id": "b776edf7-dcac-4bd6-a77a-c2323c520850",
   "metadata": {},
   "outputs": [],
   "source": [
    "from google.ai.generativelanguage_v1beta.types import Tool as GenAITool\n",
    "llm = ChatGoogleGenerativeAI(model=\"gemini-2.5-flash\")\n",
    "resp = llm.invoke(\n",
    "    \"When is the next total solar eclipse in US?\",\n",
    "    tools=[GenAITool(google_search={})],\n",
    ")"
   ]
  },
  {
   "cell_type": "markdown",
   "id": "42c85e2a-6550-4a6e-905c-2e8c679840a0",
   "metadata": {},
   "source": [
    "# Youtube extractor"
   ]
  },
  {
   "cell_type": "code",
   "execution_count": null,
   "id": "f8d930e9-865a-4b2c-bbfe-4a968b2022f1",
   "metadata": {},
   "outputs": [],
   "source": [
    "import requests"
   ]
  },
  {
   "cell_type": "code",
   "execution_count": null,
   "id": "8359e555-7ccb-4d29-9001-4e815f213b0b",
   "metadata": {},
   "outputs": [],
   "source": [
    "CONFIG = {\n",
    "    'openai_api_key': os.getenv('OPENAI_API_KEY', 'your_openai_key_here'),\n",
    "    'youtube_api_key': os.getenv('YOUTUBE_API_KEY', ''),  # Optional\n",
    "    'email_username': os.getenv('EMAIL_USERNAME', 'your_email@gmail.com'),\n",
    "    'email_password': os.getenv('EMAIL_PASSWORD', 'your_app_password'),\n",
    "    'check_interval_hours': 6,\n",
    "    'database_file': 'investment_agent.db'\n",
    "}"
   ]
  },
  {
   "cell_type": "code",
   "execution_count": null,
   "id": "6f03ecb1-6c2f-4662-b488-9c605a592da3",
   "metadata": {},
   "outputs": [],
   "source": [
    "api_url = \"https://www.googleapis.com/youtube/v3/search\"\n",
    "\n",
    "params = {\n",
    "    'part': 'snippet',\n",
    "    'channelId': channel_id,\n",
    "    'maxResults': 5,\n",
    "    'order': 'date',\n",
    "    'type': 'video',\n",
    "    'key': CONFIG['youtube_api_key']\n",
    "}\n",
    "\n",
    "response = requests.get(api_url, params=params)\n",
    "response.raise_for_status()\n",
    "data = response.json()"
   ]
  },
  {
   "cell_type": "code",
   "execution_count": 1,
   "id": "56fda532-e4f7-4d18-8655-885a232f3dc0",
   "metadata": {},
   "outputs": [],
   "source": [
    "from googleapiclient.discovery import build"
   ]
  },
  {
   "cell_type": "code",
   "execution_count": 6,
   "id": "e8e25a33-41f9-4734-8b84-11c5ca91ac1c",
   "metadata": {},
   "outputs": [
    {
     "name": "stdout",
     "output_type": "stream",
     "text": [
      "✅ ADC credentials found and configured.\n",
      "Project ID: focus-sweep-445012-u8\n"
     ]
    }
   ],
   "source": [
    "import google.auth\n",
    "\n",
    "try:\n",
    "    credentials, project = google.auth.default()\n",
    "    print(\"✅ ADC credentials found and configured.\")\n",
    "    if project:\n",
    "        print(f\"Project ID: {project}\")\n",
    "    else:\n",
    "        print(\"No project ID found in credentials.\")\n",
    "except google.auth.exceptions.DefaultCredentialsError as e:\n",
    "    print(f\"❌ ADC credentials not found. Error: {e}\")"
   ]
  },
  {
   "cell_type": "code",
   "execution_count": 7,
   "id": "8a1a7535-0a33-4d08-b7ce-dc0a8d2cc062",
   "metadata": {},
   "outputs": [],
   "source": [
    "youtube = build(\"youtube\", \"v3\")\n",
    "resp = youtube.search().list(\n",
    "    q=\"LG ENERGY solution\",\n",
    "    part='id, snippet',\n",
    "    maxResults=10,\n",
    "    type='video'\n",
    ").execute()"
   ]
  },
  {
   "cell_type": "code",
   "execution_count": 9,
   "id": "b9f37110-6ed6-4046-a220-39915a713315",
   "metadata": {},
   "outputs": [
    {
     "data": {
      "text/plain": [
       "6"
      ]
     },
     "execution_count": 9,
     "metadata": {},
     "output_type": "execute_result"
    }
   ],
   "source": [
    "len(resp)"
   ]
  },
  {
   "cell_type": "code",
   "execution_count": 46,
   "id": "c635cd66-71da-4e47-933c-d1e35e777170",
   "metadata": {},
   "outputs": [],
   "source": [
    "video_ids = []\n",
    "video_titles = []\n",
    "channel_ids = []\n",
    "channel_titles = []\n",
    "pub_dtts = []\n",
    "n_subs_list = []\n",
    "\n",
    "for res in resp.get(\"items\")[1:]:\n",
    "    content_type = res['id']['kind']\n",
    "    if content_type != 'youtube#video':\n",
    "        continue\n",
    "    \n",
    "    video_id = res['id']['videoId'] # https://www.youtube.com/watch?v={video_id}\n",
    "    video_title = res['snippet']['title']\n",
    "    channel_id = res['snippet']['channelId']\n",
    "    channel_title = res['snippet']['channelTitle']\n",
    "    published_dtt = res['snippet']['publishTime']\n",
    "    n_subs = (youtube.channels()\n",
    "              .list(part='statistics',id=channel_id)\n",
    "              .execute()['items'][0]['statistics']['subscriberCount'])\n",
    "    video_ids.append(video_id)\n",
    "    video_titles.append(video_title)\n",
    "    channel_ids.append(channel_id)\n",
    "    channel_titles.append(channel_title)\n",
    "    pub_dtts.append(published_dtt)\n",
    "    n_subs_list.append(n_subs)"
   ]
  },
  {
   "cell_type": "code",
   "execution_count": 47,
   "id": "42d5b6f0-2b70-4e94-86c5-6aa356323a0c",
   "metadata": {},
   "outputs": [],
   "source": [
    "df = pd.DataFrame({\"video_ids\":video_ids, \"title\":video_titles,\n",
    "                  \"channel_title\":channel_titles, \"pub_dt\":pub_dtts, \"subs\":n_subs_list,\n",
    "                  \"channel_id\":channel_ids})"
   ]
  },
  {
   "cell_type": "code",
   "execution_count": 53,
   "id": "fe4e5417-876b-404f-afc8-164197c053d6",
   "metadata": {},
   "outputs": [
    {
     "data": {
      "text/plain": [
       "video_ids                     object\n",
       "title                         object\n",
       "channel_title                 object\n",
       "pub_dt           datetime64[ns, UTC]\n",
       "subs                          object\n",
       "channel_id                    object\n",
       "dtype: object"
      ]
     },
     "execution_count": 53,
     "metadata": {},
     "output_type": "execute_result"
    }
   ],
   "source": [
    "df.dtypes"
   ]
  },
  {
   "cell_type": "code",
   "execution_count": 52,
   "id": "fc615851-7118-4f00-984f-a978d9068ebf",
   "metadata": {},
   "outputs": [],
   "source": [
    "df['pub_dt']=pd.to_datetime(df['pub_dt'])"
   ]
  },
  {
   "cell_type": "code",
   "execution_count": 55,
   "id": "d0365503-0bfe-4c35-bf28-9a0a93346735",
   "metadata": {},
   "outputs": [
    {
     "data": {
      "text/plain": [
       "0   2025-09-06 01:59:38+00:00\n",
       "1   2025-09-09 22:10:19+00:00\n",
       "2   2025-09-07 13:46:00+00:00\n",
       "3   2025-09-08 05:55:47+00:00\n",
       "4   2023-02-14 08:00:23+00:00\n",
       "5   2025-09-05 11:25:21+00:00\n",
       "6   2024-12-13 08:29:23+00:00\n",
       "7   2024-01-17 15:53:54+00:00\n",
       "8   2025-09-06 14:03:24+00:00\n",
       "Name: pub_dt, dtype: datetime64[ns, UTC]"
      ]
     },
     "execution_count": 55,
     "metadata": {},
     "output_type": "execute_result"
    }
   ],
   "source": [
    "df['pub_dt']"
   ]
  },
  {
   "cell_type": "code",
   "execution_count": 58,
   "id": "56f32db2-2309-4cde-b627-df36c08a9427",
   "metadata": {},
   "outputs": [
    {
     "data": {
      "text/plain": [
       "0   2025-09-06 10:59:38+09:00\n",
       "1   2025-09-10 07:10:19+09:00\n",
       "2   2025-09-07 22:46:00+09:00\n",
       "3   2025-09-08 14:55:47+09:00\n",
       "4   2023-02-14 17:00:23+09:00\n",
       "5   2025-09-05 20:25:21+09:00\n",
       "6   2024-12-13 17:29:23+09:00\n",
       "7   2024-01-18 00:53:54+09:00\n",
       "8   2025-09-06 23:03:24+09:00\n",
       "Name: pub_dt, dtype: datetime64[ns, Asia/Seoul]"
      ]
     },
     "execution_count": 58,
     "metadata": {},
     "output_type": "execute_result"
    }
   ],
   "source": [
    "df['pub_dt'].dt.tz_convert(\"Asia/Seoul\")"
   ]
  },
  {
   "cell_type": "code",
   "execution_count": 48,
   "id": "b434bed8-19db-412d-a43c-5e4ca74027ab",
   "metadata": {},
   "outputs": [
    {
     "data": {
      "text/html": [
       "<div>\n",
       "<style scoped>\n",
       "    .dataframe tbody tr th:only-of-type {\n",
       "        vertical-align: middle;\n",
       "    }\n",
       "\n",
       "    .dataframe tbody tr th {\n",
       "        vertical-align: top;\n",
       "    }\n",
       "\n",
       "    .dataframe thead th {\n",
       "        text-align: right;\n",
       "    }\n",
       "</style>\n",
       "<table border=\"1\" class=\"dataframe\">\n",
       "  <thead>\n",
       "    <tr style=\"text-align: right;\">\n",
       "      <th></th>\n",
       "      <th>video_ids</th>\n",
       "      <th>title</th>\n",
       "      <th>channel_title</th>\n",
       "      <th>pub_dt</th>\n",
       "      <th>subs</th>\n",
       "      <th>channel_id</th>\n",
       "    </tr>\n",
       "  </thead>\n",
       "  <tbody>\n",
       "    <tr>\n",
       "      <th>0</th>\n",
       "      <td>ggOFAzg_1kU</td>\n",
       "      <td>Georgia ICE raid: Hundreds detained at Hyundai...</td>\n",
       "      <td>LiveNOW from FOX</td>\n",
       "      <td>2025-09-06T01:59:38Z</td>\n",
       "      <td>5130000</td>\n",
       "      <td>UCJg9wBPyKMNA5sRDnvzmkdg</td>\n",
       "    </tr>\n",
       "    <tr>\n",
       "      <th>1</th>\n",
       "      <td>wHP_95GXkm0</td>\n",
       "      <td>Medical calls continue at LG Energy plant days...</td>\n",
       "      <td>WOOD TV8</td>\n",
       "      <td>2025-09-09T22:10:19Z</td>\n",
       "      <td>256000</td>\n",
       "      <td>UCDG0mJ_zkrODDT-4VTEV6TQ</td>\n",
       "    </tr>\n",
       "    <tr>\n",
       "      <th>2</th>\n",
       "      <td>jOZTyrxw4_M</td>\n",
       "      <td>Official: South Korean workers detained in Geo...</td>\n",
       "      <td>CNN</td>\n",
       "      <td>2025-09-07T13:46:00Z</td>\n",
       "      <td>18700000</td>\n",
       "      <td>UCupvZG-5ko_eiXAupbDfxWw</td>\n",
       "    </tr>\n",
       "    <tr>\n",
       "      <th>3</th>\n",
       "      <td>hftATC9_Dwk</td>\n",
       "      <td>US Raid on Hyundai Plant Leaves Korean Compani...</td>\n",
       "      <td>Bloomberg Television</td>\n",
       "      <td>2025-09-08T05:55:47Z</td>\n",
       "      <td>2840000</td>\n",
       "      <td>UCIALMKvObZNtJ6AmdCLP7Lg</td>\n",
       "    </tr>\n",
       "    <tr>\n",
       "      <th>4</th>\n",
       "      <td>_agkocyC9e8</td>\n",
       "      <td>LG에너지솔루션 브로츠와프 법인 직원들의 DAY 2 ㅣ V-log Tour DAY ...</td>\n",
       "      <td>LG에너지솔루션 [LG Energy Solution]</td>\n",
       "      <td>2023-02-14T08:00:23Z</td>\n",
       "      <td>246000</td>\n",
       "      <td>UCEtI8QbOcwcCsOFt-kgr2gg</td>\n",
       "    </tr>\n",
       "    <tr>\n",
       "      <th>5</th>\n",
       "      <td>wIPACSQV_eo</td>\n",
       "      <td>US Raids Hyundai-LG Battery Plant, 300 Koreans...</td>\n",
       "      <td>MBN News</td>\n",
       "      <td>2025-09-05T11:25:21Z</td>\n",
       "      <td>2490000</td>\n",
       "      <td>UCG9aFJTZ-lMCHAiO1KJsirg</td>\n",
       "    </tr>\n",
       "    <tr>\n",
       "      <th>6</th>\n",
       "      <td>uwfK9uHJQW4</td>\n",
       "      <td>EMPOWER EVERY POSSIBILITY | LG Energy Solution</td>\n",
       "      <td>LG Energy Solution Global</td>\n",
       "      <td>2024-12-13T08:29:23Z</td>\n",
       "      <td>95600</td>\n",
       "      <td>UCmkjW0ZnWqw0n6PSXYr_v5A</td>\n",
       "    </tr>\n",
       "    <tr>\n",
       "      <th>7</th>\n",
       "      <td>d8ne6uE-50Y</td>\n",
       "      <td>About LG Energy Solution Michigan</td>\n",
       "      <td>LG Energy Solution Michigan, Inc.</td>\n",
       "      <td>2024-01-17T15:53:54Z</td>\n",
       "      <td>257</td>\n",
       "      <td>UC5bG-hCQQ4MLjSGs5CDeHtQ</td>\n",
       "    </tr>\n",
       "    <tr>\n",
       "      <th>8</th>\n",
       "      <td>S4t1aF79dVQ</td>\n",
       "      <td>한국 기업 단속 때 헬기까지 출동…손발 체인 묶어 줄줄이 연행</td>\n",
       "      <td>중앙일보</td>\n",
       "      <td>2025-09-06T14:03:24Z</td>\n",
       "      <td>555000</td>\n",
       "      <td>UCH3mJ-nHxjjny2FJbJaqiDA</td>\n",
       "    </tr>\n",
       "  </tbody>\n",
       "</table>\n",
       "</div>"
      ],
      "text/plain": [
       "     video_ids                                              title  \\\n",
       "0  ggOFAzg_1kU  Georgia ICE raid: Hundreds detained at Hyundai...   \n",
       "1  wHP_95GXkm0  Medical calls continue at LG Energy plant days...   \n",
       "2  jOZTyrxw4_M  Official: South Korean workers detained in Geo...   \n",
       "3  hftATC9_Dwk  US Raid on Hyundai Plant Leaves Korean Compani...   \n",
       "4  _agkocyC9e8  LG에너지솔루션 브로츠와프 법인 직원들의 DAY 2 ㅣ V-log Tour DAY ...   \n",
       "5  wIPACSQV_eo  US Raids Hyundai-LG Battery Plant, 300 Koreans...   \n",
       "6  uwfK9uHJQW4     EMPOWER EVERY POSSIBILITY | LG Energy Solution   \n",
       "7  d8ne6uE-50Y                  About LG Energy Solution Michigan   \n",
       "8  S4t1aF79dVQ                 한국 기업 단속 때 헬기까지 출동…손발 체인 묶어 줄줄이 연행   \n",
       "\n",
       "                       channel_title                pub_dt      subs  \\\n",
       "0                   LiveNOW from FOX  2025-09-06T01:59:38Z   5130000   \n",
       "1                           WOOD TV8  2025-09-09T22:10:19Z    256000   \n",
       "2                                CNN  2025-09-07T13:46:00Z  18700000   \n",
       "3               Bloomberg Television  2025-09-08T05:55:47Z   2840000   \n",
       "4      LG에너지솔루션 [LG Energy Solution]  2023-02-14T08:00:23Z    246000   \n",
       "5                           MBN News  2025-09-05T11:25:21Z   2490000   \n",
       "6          LG Energy Solution Global  2024-12-13T08:29:23Z     95600   \n",
       "7  LG Energy Solution Michigan, Inc.  2024-01-17T15:53:54Z       257   \n",
       "8                               중앙일보  2025-09-06T14:03:24Z    555000   \n",
       "\n",
       "                 channel_id  \n",
       "0  UCJg9wBPyKMNA5sRDnvzmkdg  \n",
       "1  UCDG0mJ_zkrODDT-4VTEV6TQ  \n",
       "2  UCupvZG-5ko_eiXAupbDfxWw  \n",
       "3  UCIALMKvObZNtJ6AmdCLP7Lg  \n",
       "4  UCEtI8QbOcwcCsOFt-kgr2gg  \n",
       "5  UCG9aFJTZ-lMCHAiO1KJsirg  \n",
       "6  UCmkjW0ZnWqw0n6PSXYr_v5A  \n",
       "7  UC5bG-hCQQ4MLjSGs5CDeHtQ  \n",
       "8  UCH3mJ-nHxjjny2FJbJaqiDA  "
      ]
     },
     "execution_count": 48,
     "metadata": {},
     "output_type": "execute_result"
    }
   ],
   "source": [
    "df.loc[df['subs'] > 100_000]"
   ]
  },
  {
   "cell_type": "code",
   "execution_count": 29,
   "id": "b5a903e5-e64d-4d65-ae9c-e963641278e0",
   "metadata": {},
   "outputs": [
    {
     "data": {
      "text/plain": [
       "dict_keys(['kind', 'etag', 'id', 'snippet'])"
      ]
     },
     "execution_count": 29,
     "metadata": {},
     "output_type": "execute_result"
    }
   ],
   "source": [
    "res.keys()"
   ]
  },
  {
   "cell_type": "code",
   "execution_count": 37,
   "id": "bacda55b-ff9b-4b3e-8936-8c4b574f141d",
   "metadata": {},
   "outputs": [
    {
     "data": {
      "text/plain": [
       "{'kind': 'youtube#searchResult',\n",
       " 'etag': 'zROkztDtIrjJnuAgwC4fTWbV71o',\n",
       " 'id': {'kind': 'youtube#channel', 'channelId': 'UCEtI8QbOcwcCsOFt-kgr2gg'},\n",
       " 'snippet': {'publishedAt': '2020-12-03T02:09:05Z',\n",
       "  'channelId': 'UCEtI8QbOcwcCsOFt-kgr2gg',\n",
       "  'title': 'LG에너지솔루션 [LG Energy Solution]',\n",
       "  'description': 'EMPOWER EVERY POSSIBILITY 에너지에 대한 다양한 솔루션을 제공하는 LG에너지솔루션 공식 채널입니다.',\n",
       "  'thumbnails': {'default': {'url': 'https://yt3.ggpht.com/GaZex5gyFhFug_Q7Kan8JTUqRZxQ-oXVGyhzQYCtB1E_6d-7JMRZUG-q9_r50MKYVW5g0-vYZg=s88-c-k-c0xffffffff-no-rj-mo'},\n",
       "   'medium': {'url': 'https://yt3.ggpht.com/GaZex5gyFhFug_Q7Kan8JTUqRZxQ-oXVGyhzQYCtB1E_6d-7JMRZUG-q9_r50MKYVW5g0-vYZg=s240-c-k-c0xffffffff-no-rj-mo'},\n",
       "   'high': {'url': 'https://yt3.ggpht.com/GaZex5gyFhFug_Q7Kan8JTUqRZxQ-oXVGyhzQYCtB1E_6d-7JMRZUG-q9_r50MKYVW5g0-vYZg=s800-c-k-c0xffffffff-no-rj-mo'}},\n",
       "  'channelTitle': 'LG에너지솔루션 [LG Energy Solution]',\n",
       "  'liveBroadcastContent': 'none',\n",
       "  'publishTime': '2020-12-03T02:09:05Z'}}"
      ]
     },
     "execution_count": 37,
     "metadata": {},
     "output_type": "execute_result"
    }
   ],
   "source": [
    "resp.get(\"items\")[0]"
   ]
  },
  {
   "cell_type": "code",
   "execution_count": null,
   "id": "abb34361-af17-41a3-b267-4e4908e9173b",
   "metadata": {},
   "outputs": [],
   "source": [
    "['id']['kind']"
   ]
  },
  {
   "cell_type": "code",
   "execution_count": 34,
   "id": "74077512-aa1f-4786-b3ae-54f98408922d",
   "metadata": {},
   "outputs": [
    {
     "data": {
      "text/plain": [
       "{'kind': 'youtube#searchResult',\n",
       " 'etag': 'NjyTqsYWLa_g3i4nbI71Ui5No8E',\n",
       " 'id': {'kind': 'youtube#video', 'videoId': 'ggOFAzg_1kU'},\n",
       " 'snippet': {'publishedAt': '2025-09-06T01:59:38Z',\n",
       "  'channelId': 'UCJg9wBPyKMNA5sRDnvzmkdg',\n",
       "  'title': 'Georgia ICE raid: Hundreds detained at Hyundai factory | LiveNOW from FOX',\n",
       "  'description': 'Federal authorities say 475 people were detained this week in what Homeland Security Investigations called the largest ...',\n",
       "  'thumbnails': {'default': {'url': 'https://i.ytimg.com/vi/ggOFAzg_1kU/default.jpg',\n",
       "    'width': 120,\n",
       "    'height': 90},\n",
       "   'medium': {'url': 'https://i.ytimg.com/vi/ggOFAzg_1kU/mqdefault.jpg',\n",
       "    'width': 320,\n",
       "    'height': 180},\n",
       "   'high': {'url': 'https://i.ytimg.com/vi/ggOFAzg_1kU/hqdefault.jpg',\n",
       "    'width': 480,\n",
       "    'height': 360}},\n",
       "  'channelTitle': 'LiveNOW from FOX',\n",
       "  'liveBroadcastContent': 'none',\n",
       "  'publishTime': '2025-09-06T01:59:38Z'}}"
      ]
     },
     "execution_count": 34,
     "metadata": {},
     "output_type": "execute_result"
    }
   ],
   "source": [
    "resp.get(\"items\")[1]"
   ]
  },
  {
   "cell_type": "markdown",
   "id": "e8520388-b8bf-4d5b-9952-cdcf28fef6ef",
   "metadata": {},
   "source": [
    "## Sending video or youtube to Gemini"
   ]
  },
  {
   "cell_type": "code",
   "execution_count": null,
   "id": "0d449b15-542f-46f1-aa30-bf18f5810ace",
   "metadata": {},
   "outputs": [],
   "source": [
    "video_bytes = open(\"/path/to/your/video.mp4\", 'rb').read()\n",
    "video_base64 = base64.b64encode(video_bytes).decode('utf-8')\n",
    "\n",
    "message = HumanMessage(\n",
    "    content=[\n",
    "        {\"type\": \"text\", \"text\": \"describe what's in this video in a sentence\"},\n",
    "        {\n",
    "            \"type\": \"file\",\n",
    "            \"source_type\": \"base64\",\n",
    "            \"mime_type\": \"video/mp4\",\n",
    "            \"data\": video_base64\n",
    "        }\n",
    "    ]\n",
    ")\n",
    "ai_msg = llm.invoke([message])\n",
    "ai_msg.content\n",
    "\n",
    "message = HumanMessage(\n",
    "    content=[\n",
    "        {\"type\": \"text\", \"text\": \"summarize the video in 3 sentences.\"},\n",
    "        {\n",
    "            \"type\": \"media\",\n",
    "            \"file_uri\": \"https://www.youtube.com/watch?v=9hE5-98ZeCg\",\n",
    "            \"mime_type\": \"video/mp4\",\n",
    "        }\n",
    "    ]\n",
    ")\n",
    "ai_msg = llm.invoke([message])\n",
    "ai_msg.content"
   ]
  }
 ],
 "metadata": {
  "kernelspec": {
   "display_name": "rag_experiments",
   "language": "python",
   "name": "venv_rag"
  },
  "language_info": {
   "codemirror_mode": {
    "name": "ipython",
    "version": 3
   },
   "file_extension": ".py",
   "mimetype": "text/x-python",
   "name": "python",
   "nbconvert_exporter": "python",
   "pygments_lexer": "ipython3",
   "version": "3.10.14"
  }
 },
 "nbformat": 4,
 "nbformat_minor": 5
}
