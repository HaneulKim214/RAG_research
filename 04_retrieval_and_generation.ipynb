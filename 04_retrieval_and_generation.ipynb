{
 "cells": [
  {
   "cell_type": "code",
   "execution_count": 2,
   "id": "f18276ce-5bcc-4c35-8af7-3006412cc89b",
   "metadata": {},
   "outputs": [],
   "source": [
    "import os\n",
    "import numpy as np\n",
    "\n",
    "from langchain_community.vectorstores import FAISS\n",
    "from langchain_google_genai import GoogleGenerativeAIEmbeddings"
   ]
  },
  {
   "cell_type": "code",
   "execution_count": 4,
   "id": "b3119a93-7654-4284-9b65-fce69c9f15c3",
   "metadata": {},
   "outputs": [
    {
     "data": {
      "text/plain": [
       "True"
      ]
     },
     "execution_count": 4,
     "metadata": {},
     "output_type": "execute_result"
    }
   ],
   "source": [
    "from dotenv import load_dotenv\n",
    "load_dotenv()"
   ]
  },
  {
   "cell_type": "code",
   "execution_count": 5,
   "id": "7890a71d-3925-4d50-8877-e8f5de002264",
   "metadata": {},
   "outputs": [
    {
     "data": {
      "text/plain": [
       "['flat', 'HNSW', 'ivfFlat']"
      ]
     },
     "execution_count": 5,
     "metadata": {},
     "output_type": "execute_result"
    }
   ],
   "source": [
    "path_to_vectorstore = \"data/vector_stores/\"\n",
    "os.listdir(path_to_vectorstore)"
   ]
  },
  {
   "cell_type": "markdown",
   "id": "ef24c5b4-fbf1-4f69-bdbc-ac944174808a",
   "metadata": {},
   "source": [
    "# Retrieval"
   ]
  },
  {
   "cell_type": "code",
   "execution_count": 6,
   "id": "c45be702-74af-4e9b-bd63-8f5e05738871",
   "metadata": {},
   "outputs": [],
   "source": [
    "emb_model = GoogleGenerativeAIEmbeddings(\n",
    "            model=\"models/embedding-001\",\n",
    "            google_api_key=os.getenv(\"GOOGLE_API_KEY\")\n",
    "        ) "
   ]
  },
  {
   "cell_type": "code",
   "execution_count": 7,
   "id": "be1e930a-e869-43b7-b2c7-bced5c0604f7",
   "metadata": {},
   "outputs": [],
   "source": [
    "ivfFlat = FAISS.load_local(\n",
    "    os.path.join(path_to_vectorstore, \"ivfFlat\"), \n",
    "    embeddings=emb_model,\n",
    "    allow_dangerous_deserialization=True  # Required for recent versions\n",
    ")"
   ]
  },
  {
   "cell_type": "code",
   "execution_count": 97,
   "id": "138da8aa-329b-4cdb-88e2-94f11ea8704d",
   "metadata": {},
   "outputs": [],
   "source": [
    "vector_stores = {}\n",
    "vector_stores['ivfFlat'] = ivfFlat\n",
    "# vector_stores['Flat'] = Flat\n",
    "# vector_stores['HNSW'] = HNSW\n"
   ]
  },
  {
   "cell_type": "code",
   "execution_count": 98,
   "id": "d7c34d14-4ae9-4eeb-9b79-f01880497845",
   "metadata": {},
   "outputs": [],
   "source": [
    "vector_store = \"ivfFlat\"\n",
    "question = \"What are LG Energy solution's flagship products?\"\n",
    "\n",
    "contexts = vector_stores[vector_store].similarity_search_with_score(\n",
    "    query,\n",
    "    k=3,\n",
    "    search_type=\"similarity\")"
   ]
  },
  {
   "cell_type": "code",
   "execution_count": 134,
   "id": "e9c208ad-7b89-41f2-87d2-65b2ab04974d",
   "metadata": {},
   "outputs": [],
   "source": [
    "def documents_to_text(documents, with_dist=True):\n",
    "    txt = \"\"\n",
    "    for i, (c, dist) in enumerate(documents):\n",
    "        curr_text = f\"Document {i}: \\n\\n{c.page_content} \\n\\n\"\n",
    "        if i == len(documents) - 1:\n",
    "            curr_text = f\"Document {i}: \\n\\n{c.page_content}\"\n",
    "        \n",
    "        txt += curr_text\n",
    "    return txt"
   ]
  },
  {
   "cell_type": "code",
   "execution_count": 135,
   "id": "5aeabd81-d3e8-4bec-b7be-4992872ed395",
   "metadata": {},
   "outputs": [
    {
     "name": "stdout",
     "output_type": "stream",
     "text": [
      "Document 0: \n",
      "\n",
      "information about the Groups reportable segments is as follows: Segment Major products and services LG Energy solution () Automotive batteries, mobile batteries, ESS batteries and others () The Group has determined the reporting segment as a single reporting segment based on the performance \n",
      "\n",
      "Document 1: \n",
      "\n",
      "LG Energy Solution Michigan Inc. (1) 100 100 USA December Automotive battery research and manufacturing LG Energy Solution Battery (Nanjing) Co., Ltd. 100 100 China December Automotive battery manufacturing and sales LG Energy Solution Wroclaw sp. z o.o. 100 100 Poland December Automotive battery \n",
      "\n",
      "Document 2: \n",
      "\n",
      "Germany December ESS battery sales and others LG Energy Solution (Taiwan) Ltd. 100 100 Taiwan December Mobile battery sales and others Areumnoori Co., Ltd. 100 100 Korea December Facility management and cleaning LG Energy Solution Fund I LLC 100 100 USA December Investment in ventures LG Energy\n"
     ]
    }
   ],
   "source": [
    "annual_report_contexts_txt = documents_to_text(contexts)\n",
    "print(annual_report_contexts_txt)"
   ]
  },
  {
   "cell_type": "markdown",
   "id": "94cb83f4-ea09-4773-b644-4e0d7bb22987",
   "metadata": {},
   "source": [
    "### How to check/evaluate whether retrieved context is most relevant?\n",
    "\n",
    "1. Is there a way to find out without creating answer set with your entire document? If so, how can I cover infinite number of questions...\n",
    "\n",
    "\n",
    "In RAG evaluation, \"relevance\" can mean two things:\n",
    "- Retrieval relevance: Did the retriever return passages that actually contain the information needed?\n",
    "- Answer relevance: Did the generated answer stay ???faithful to the retrieved content and to the ???ground truth?\n",
    "\n",
    "\n",
    "Methods:<br>\n",
    "Human-annotated\n",
    "- Have annotators label degree of relevancy of retrieved context to query. ex:{relevant, partially relevant, irrelevant}\n",
    "-  rel(q,d) $\\in$ {0, 1, 2} ex: (Q, contexts_i, 1) becomes ground truth.\n",
    "\n",
    "- Same philosophy as classical IR benchmarks like TREC, MS MARCO, or BEIR -> they don’t know “all possible relevant passages,” but they fix a representative set of queries + relevance annotations and then measure retrieval against that."
   ]
  },
  {
   "cell_type": "code",
   "execution_count": null,
   "id": "cd0ab172-e143-4503-b293-2c328a5e2f7d",
   "metadata": {},
   "outputs": [],
   "source": []
  },
  {
   "cell_type": "code",
   "execution_count": null,
   "id": "b1f68174-566a-442e-8014-448acc002aa2",
   "metadata": {},
   "outputs": [],
   "source": []
  },
  {
   "cell_type": "markdown",
   "id": "082992af-dc78-4d94-bb56-d307ca9828a1",
   "metadata": {},
   "source": [
    "# Generation"
   ]
  },
  {
   "cell_type": "code",
   "execution_count": 126,
   "id": "b82212a7-8d2b-4be8-98f0-3c9241c37056",
   "metadata": {},
   "outputs": [],
   "source": [
    "from langchain_google_genai import ChatGoogleGenerativeAI\n",
    "from langchain.prompts import ChatPromptTemplate\n",
    "from langchain.chains import LLMChain"
   ]
  },
  {
   "cell_type": "code",
   "execution_count": 127,
   "id": "c37fd6d0-32f4-4795-b4c9-d1c5fdd1b40d",
   "metadata": {},
   "outputs": [],
   "source": [
    "text_gen_model = ChatGoogleGenerativeAI(\n",
    "    model=\"gemini-2.5-flash\",\n",
    "    google_api_key=os.getenv(\"GOOGLE_API_KEY\"),\n",
    "    temperature=0.1\n",
    ")"
   ]
  },
  {
   "cell_type": "code",
   "execution_count": 157,
   "id": "f1492f0a-e755-4e06-a810-b573486180bd",
   "metadata": {},
   "outputs": [],
   "source": [
    "company_name = \"LG energy solution\"\n",
    "chain = company_analysis_prompt | text_gen_model\n",
    "response = chain.invoke({\n",
    "    \"company_name\":company_name,\n",
    "    \"annual_report_context\":annual_report_contexts_txt,\n",
    "    \"question\":question})"
   ]
  },
  {
   "cell_type": "code",
   "execution_count": 160,
   "id": "0e6770f5-328a-43b9-823d-f0ee0def4244",
   "metadata": {},
   "outputs": [
    {
     "name": "stdout",
     "output_type": "stream",
     "text": [
      "Document 0: \n",
      "\n",
      "information about the Groups reportable segments is as follows: Segment Major products and services LG Energy solution () Automotive batteries, mobile batteries, ESS batteries and others () The Group has determined the reporting segment as a single reporting segment based on the performance \n",
      "\n",
      "Document 1: \n",
      "\n",
      "LG Energy Solution Michigan Inc. (1) 100 100 USA December Automotive battery research and manufacturing LG Energy Solution Battery (Nanjing) Co., Ltd. 100 100 China December Automotive battery manufacturing and sales LG Energy Solution Wroclaw sp. z o.o. 100 100 Poland December Automotive battery \n",
      "\n",
      "Document 2: \n",
      "\n",
      "Germany December ESS battery sales and others LG Energy Solution (Taiwan) Ltd. 100 100 Taiwan December Mobile battery sales and others Areumnoori Co., Ltd. 100 100 Korea December Facility management and cleaning LG Energy Solution Fund I LLC 100 100 USA December Investment in ventures LG Energy\n"
     ]
    }
   ],
   "source": [
    "print(annual_report_contexts_txt)"
   ]
  },
  {
   "cell_type": "code",
   "execution_count": 158,
   "id": "fee7f0f6-57c8-4819-b217-30fe7494d668",
   "metadata": {},
   "outputs": [
    {
     "name": "stdout",
     "output_type": "stream",
     "text": [
      "yes\n",
      "LG Energy Solution's flagship products are **Automotive batteries, mobile batteries, and ESS batteries**.\n",
      "\n",
      "**Reasoning:**\n",
      "Document 0, under the section \"Segment Major products and services\" for \"LG Energy solution\", explicitly states its major products and services as \"Automotive batteries, mobile batteries, ESS batteries and others\". This directly identifies these three types of batteries as the core offerings of LG Energy Solution.\n"
     ]
    }
   ],
   "source": [
    "print(response.content)"
   ]
  },
  {
   "cell_type": "code",
   "execution_count": 156,
   "id": "f3dfee0f-d220-4111-8e2e-09fb266c8086",
   "metadata": {},
   "outputs": [],
   "source": [
    "company_analysis_prompt = ChatPromptTemplate.from_template(\"\"\"\n",
    "You are one of the best financial analyst who is also is well aware of history.\n",
    "You have been following {company_name} for a long time and well aware of how it has evolved as well \n",
    "as its prospects.\n",
    "\n",
    "By leveraging given context, answer the following question.\n",
    "\n",
    "If you can't find relevant information from given context, notify that relevant information did not exist.\n",
    "Then without looking at relevant information, give answer.\n",
    "\n",
    "<annual report context>\n",
    "{annual_report_context}\n",
    "</annual report context>\n",
    "\n",
    "question: {question}\n",
    "\n",
    "output requirements:\n",
    "- \"yes\" or \"no\" answer to whether you found relevant information from given context.\n",
    "- Please provide a detailed, accurate answer based on given context. \n",
    "- Be sure to provide strong reasoning that backs your answer.\n",
    "\"\"\")"
   ]
  },
  {
   "cell_type": "code",
   "execution_count": 144,
   "id": "e705db8e-d302-4af6-8251-4df6e8387110",
   "metadata": {},
   "outputs": [
    {
     "name": "stdout",
     "output_type": "stream",
     "text": [
      "Human: \n",
      "You are one of the best financial analyst who is also is well aware of history.\n",
      "You have been following LG energy solution for a long time and well aware of how it has evolved as well \n",
      "as its prospects.\n",
      "\n",
      "By leveraging given context, answer the following question.\n",
      "\n",
      "<annual report context>\n",
      "Document 0: \n",
      "\n",
      "information about the Groups reportable segments is as follows: Segment Major products and services LG Energy solution () Automotive batteries, mobile batteries, ESS batteries and others () The Group has determined the reporting segment as a single reporting segment based on the performance \n",
      "\n",
      "Document 1: \n",
      "\n",
      "LG Energy Solution Michigan Inc. (1) 100 100 USA December Automotive battery research and manufacturing LG Energy Solution Battery (Nanjing) Co., Ltd. 100 100 China December Automotive battery manufacturing and sales LG Energy Solution Wroclaw sp. z o.o. 100 100 Poland December Automotive battery \n",
      "\n",
      "Document 2: \n",
      "\n",
      "Germany December ESS battery sales and others LG Energy Solution (Taiwan) Ltd. 100 100 Taiwan December Mobile battery sales and others Areumnoori Co., Ltd. 100 100 Korea December Facility management and cleaning LG Energy Solution Fund I LLC 100 100 USA December Investment in ventures LG Energy\n",
      "</annual report context>\n",
      "\n",
      "question: What are LG Energy solution's flagship products?\n",
      "\n",
      "Please provide a detailed, accurate answer based on given context. Be sure to provide strong reasoning\n",
      "that backs your answer.\n",
      "\n"
     ]
    }
   ],
   "source": [
    "print(company_analysis_prompt.format(company_name=company_name,\n",
    "                              annual_report_context=annual_report_contexts_txt,\n",
    "                              question=question))"
   ]
  },
  {
   "cell_type": "markdown",
   "id": "1e1b16f8-054f-4866-afbe-c1f5b1774687",
   "metadata": {},
   "source": [
    "# Evaluation"
   ]
  },
  {
   "cell_type": "markdown",
   "id": "48753f4c-ad60-4769-96b3-7a9f339c4a04",
   "metadata": {},
   "source": [
    "## Retrieval"
   ]
  },
  {
   "cell_type": "code",
   "execution_count": null,
   "id": "dfdc04bd-450a-4a27-96ca-7bdf70429106",
   "metadata": {},
   "outputs": [],
   "source": []
  },
  {
   "cell_type": "markdown",
   "id": "c7afda37-aab2-44ac-a04c-682c6d658b57",
   "metadata": {},
   "source": [
    "## Generation"
   ]
  },
  {
   "cell_type": "code",
   "execution_count": null,
   "id": "a5ace9dc-1b7a-4ba7-9276-9749918e461d",
   "metadata": {},
   "outputs": [],
   "source": []
  },
  {
   "cell_type": "markdown",
   "id": "4d58d86d-5b8b-4e8a-a4e0-9113b5febe29",
   "metadata": {},
   "source": [
    "## Integration"
   ]
  }
 ],
 "metadata": {
  "kernelspec": {
   "display_name": "rag_experiments",
   "language": "python",
   "name": "venv_rag"
  },
  "language_info": {
   "codemirror_mode": {
    "name": "ipython",
    "version": 3
   },
   "file_extension": ".py",
   "mimetype": "text/x-python",
   "name": "python",
   "nbconvert_exporter": "python",
   "pygments_lexer": "ipython3",
   "version": "3.10.14"
  }
 },
 "nbformat": 4,
 "nbformat_minor": 5
}
