{
 "cells": [
  {
   "cell_type": "code",
   "execution_count": 1,
   "id": "d46438ae-2858-488b-98f3-7b4e2079c4b7",
   "metadata": {},
   "outputs": [],
   "source": [
    "import numpy as np\n",
    "import pickle, os\n",
    "import faiss\n",
    "\n",
    "from dotenv import load_dotenv\n",
    "from langchain_community.vectorstores import FAISS # intergrates Langchain vectorstore with Faiss\n",
    "from langchain_community.docstore.in_memory import InMemoryDocstore\n",
    "from langchain_google_genai import GoogleGenerativeAIEmbeddings"
   ]
  },
  {
   "cell_type": "code",
   "execution_count": 2,
   "id": "e6599613-96cb-4e6b-9e9e-324a5088506b",
   "metadata": {},
   "outputs": [],
   "source": [
    "chunk_data_path = 'data/chunks/'\n",
    "file_name = 'chunks_rec_text_split_cs300_co50_defaultsep.json'\n",
    "\n",
    "with open(os.path.join(chunk_data_path, file_name), \"rb\") as fp:\n",
    "    chunks = pickle.load(fp)"
   ]
  },
  {
   "cell_type": "code",
   "execution_count": 3,
   "id": "03eca306-2d9c-40ce-af6e-80f2a5b06eee",
   "metadata": {},
   "outputs": [
    {
     "data": {
      "text/plain": [
       "True"
      ]
     },
     "execution_count": 3,
     "metadata": {},
     "output_type": "execute_result"
    }
   ],
   "source": [
    "load_dotenv()"
   ]
  },
  {
   "cell_type": "code",
   "execution_count": 4,
   "id": "2780a438-d358-4554-b335-0784d6ed06fd",
   "metadata": {},
   "outputs": [],
   "source": [
    "emb_model = GoogleGenerativeAIEmbeddings(\n",
    "            model=\"models/embedding-001\",\n",
    "            google_api_key=os.getenv(\"GOOGLE_API_KEY\")\n",
    "        ) "
   ]
  },
  {
   "cell_type": "code",
   "execution_count": 5,
   "id": "b66b62a2-547b-4f41-a975-d787ddbbc3cd",
   "metadata": {},
   "outputs": [],
   "source": [
    "a = emb_model.embed_documents([\"d\", '3'])"
   ]
  },
  {
   "cell_type": "code",
   "execution_count": 11,
   "id": "fcde20ab-cd48-45b2-84bf-57f348a2a139",
   "metadata": {},
   "outputs": [
    {
     "data": {
      "text/plain": [
       "600"
      ]
     },
     "execution_count": 11,
     "metadata": {},
     "output_type": "execute_result"
    }
   ],
   "source": [
    "len(chunks)"
   ]
  },
  {
   "cell_type": "code",
   "execution_count": 18,
   "id": "59afc511-25d6-493f-ad86-47520c89ba2b",
   "metadata": {},
   "outputs": [
    {
     "name": "stdout",
     "output_type": "stream",
     "text": [
      "CPU times: user 1.85 s, sys: 728 ms, total: 2.57 s\n",
      "Wall time: 4min 10s\n"
     ]
    }
   ],
   "source": [
    "%%time\n",
    "vectors = [emb_model.embed_query(doc.page_content) for doc in chunks]"
   ]
  },
  {
   "cell_type": "code",
   "execution_count": 19,
   "id": "af6feb66-9884-449d-ab68-79971e00a41d",
   "metadata": {},
   "outputs": [
    {
     "name": "stdout",
     "output_type": "stream",
     "text": [
      "CPU times: user 39.1 ms, sys: 13 ms, total: 52.1 ms\n",
      "Wall time: 52.1 ms\n"
     ]
    }
   ],
   "source": [
    "%%time\n",
    "embedding_mat = np.array(vectors).astype(\"float16\")"
   ]
  },
  {
   "cell_type": "code",
   "execution_count": 21,
   "id": "3a5e0e33-5ea5-4257-aac1-e49362f97087",
   "metadata": {},
   "outputs": [
    {
     "data": {
      "text/plain": [
       "(600, 768)"
      ]
     },
     "execution_count": 21,
     "metadata": {},
     "output_type": "execute_result"
    }
   ],
   "source": [
    "embedding_mat.shape"
   ]
  },
  {
   "cell_type": "code",
   "execution_count": 22,
   "id": "84f0efc7-8def-4f88-bfed-04f3ddd89be9",
   "metadata": {},
   "outputs": [
    {
     "data": {
      "text/plain": [
       "array([[ 0.04578 ,  0.02234 , -0.04556 , ...,  0.02011 , -0.02872 ,\n",
       "         0.01984 ],\n",
       "       [ 0.03488 , -0.0024  , -0.0512  , ...,  0.0226  , -0.0179  ,\n",
       "         0.01403 ],\n",
       "       [ 0.04944 ,  0.01929 , -0.061   , ...,  0.02817 , -0.04602 ,\n",
       "         0.01826 ],\n",
       "       ...,\n",
       "       [ 0.05283 ,  0.04312 , -0.04785 , ...,  0.011375, -0.03928 ,\n",
       "         0.01743 ],\n",
       "       [ 0.0293  ,  0.02461 , -0.05212 , ...,  0.03604 , -0.03802 ,\n",
       "        -0.00715 ],\n",
       "       [ 0.0188  ,  0.005432, -0.0709  , ...,  0.02985 , -0.03766 ,\n",
       "        -0.007412]], shape=(600, 768), dtype=float16)"
      ]
     },
     "execution_count": 22,
     "metadata": {},
     "output_type": "execute_result"
    }
   ],
   "source": [
    "embedding_mat"
   ]
  },
  {
   "cell_type": "code",
   "execution_count": 48,
   "id": "28da005b-3a1c-47c4-9932-d366cc9d4453",
   "metadata": {},
   "outputs": [],
   "source": [
    "emb_dim = len(emb_model.embed_documents([\"test_query\"])[0])\n",
    "k = 3\n",
    "n_cluster = 10 # ??? What if rule-of-thumb and why?\n",
    "\n",
    "flat_index = faiss.IndexFlatL2(emb_dim)\n",
    "ivf_index = faiss.IndexIVFFlat(faiss.IndexFlatL2(emb_dim), emb_dim, n_cluster)\n",
    "ivf_index.train(embedding_mat)\n",
    "\n",
    "flat_vector_store = FAISS(\n",
    "    embedding_function=emb_model,\n",
    "    index=flat_index,\n",
    "    docstore=InMemoryDocstore(),\n",
    "    index_to_docstore_id ={}\n",
    ")\n",
    "flat_vector_store.add_documents(documents=chunks)\n",
    "\n",
    "ivf_vector_store = FAISS(\n",
    "    embedding_function=emb_model,\n",
    "    index=ivf_index,\n",
    "    docstore=InMemoryDocstore(),\n",
    "    index_to_docstore_id ={}\n",
    ")\n",
    "ivf_vector_store.add_documents(documents=chunks)"
   ]
  },
  {
   "cell_type": "code",
   "execution_count": 49,
   "id": "edd1a23c-46bf-463a-a54b-fb7269b0d066",
   "metadata": {},
   "outputs": [
    {
     "name": "stdout",
     "output_type": "stream",
     "text": [
      "570 ms ± 50.7 ms per loop (mean ± std. dev. of 7 runs, 1 loop each)\n"
     ]
    }
   ],
   "source": [
    "\"\"\"\n",
    "search_type\n",
    "- similarity: Cosine/L2\n",
    "- MMR(Maximal Marginal Relevance): ???\n",
    "- Similarity_score_threshold: Only returns documents above certain threshold.\n",
    " - pass in additional param \"score_threshold\"\n",
    "\"\"\"\n",
    "\n",
    "%%timeit\n",
    "flat_vector_store.search(\"What are LG Energy solution's flagship products?\"\n",
    "                         , k=3\n",
    "                         , search_type=\"similarity\")"
   ]
  },
  {
   "cell_type": "code",
   "execution_count": 54,
   "id": "cf206c10-c019-46e4-908f-a52ef1e3508b",
   "metadata": {},
   "outputs": [],
   "source": [
    "path_to_vectorstore = \"data/vector_stores/\"\n",
    "flat_vector_store.save_local(os.path.join(path_to_vectorstore, \"flat\"))"
   ]
  },
  {
   "cell_type": "code",
   "execution_count": 50,
   "id": "1cf77c5e-5f3f-4608-aa2a-82f17f03cd1c",
   "metadata": {},
   "outputs": [
    {
     "name": "stdout",
     "output_type": "stream",
     "text": [
      "480 ms ± 117 ms per loop (mean ± std. dev. of 7 runs, 1 loop each)\n"
     ]
    }
   ],
   "source": [
    "%%timeit\n",
    "ivf_vector_store.search(\"What are LG Energy solution's flagship products?\"\n",
    "                        , k=3\n",
    "                        , search_type=\"similarity\")"
   ]
  },
  {
   "cell_type": "code",
   "execution_count": 55,
   "id": "d6acd03c-6121-4d60-a3b4-5f30df4712cf",
   "metadata": {},
   "outputs": [],
   "source": [
    "ivf_vector_store.save_local(os.path.join(path_to_vectorstore, \"ivfFlat\"))"
   ]
  },
  {
   "cell_type": "code",
   "execution_count": 52,
   "id": "440f2a67-a8e1-4e0c-9b43-5d331749dfea",
   "metadata": {},
   "outputs": [],
   "source": [
    "\"\"\"\n",
    "M = 32 # number of connections for each node.\n",
    "ef_construction = 200 # size of dynamic candidate list\n",
    "\n",
    "index_hnsw = faiss.IndexHNSWFlat(emb_dim, M)\n",
    "index_hnsw.hnsw.efConstruction = ef_construction\n",
    "index_hnsw.add(embedding_mat)\n",
    "\n",
    "ef_search = 50 # ???\n",
    "index_hnsw.search(query, k)\n",
    "\"\"\"\n",
    "M = 32\n",
    "hnsw_index = faiss.IndexHNSWFlat(emb_dim, M)\n",
    "hnsw_vector_store = FAISS(\n",
    "    embedding_function=emb_model,\n",
    "    index=hnsw_index,\n",
    "    docstore=InMemoryDocstore(),\n",
    "    index_to_docstore_id ={}\n",
    ")\n",
    "hnsw_vector_store.add_documents(documents=chunks)"
   ]
  },
  {
   "cell_type": "code",
   "execution_count": 56,
   "id": "a27577f8-92c3-47a1-b9ae-c3a9576bac34",
   "metadata": {},
   "outputs": [],
   "source": [
    "hnsw_vector_store.save_local(os.path.join(path_to_vectorstore, \"HNSW\"))"
   ]
  },
  {
   "cell_type": "code",
   "execution_count": 53,
   "id": "d6151d4e-3d54-4c39-8f56-5fab12509a5a",
   "metadata": {},
   "outputs": [
    {
     "name": "stdout",
     "output_type": "stream",
     "text": [
      "453 ms ± 73 ms per loop (mean ± std. dev. of 7 runs, 1 loop each)\n"
     ]
    }
   ],
   "source": [
    "%%timeit\n",
    "hnsw_vector_store.search(\"What are LG Energy solution's flagship products?\"\n",
    "                        , k=3\n",
    "                        , search_type=\"similarity\")"
   ]
  }
 ],
 "metadata": {
  "kernelspec": {
   "display_name": "rag_experiments",
   "language": "python",
   "name": "venv_rag"
  },
  "language_info": {
   "codemirror_mode": {
    "name": "ipython",
    "version": 3
   },
   "file_extension": ".py",
   "mimetype": "text/x-python",
   "name": "python",
   "nbconvert_exporter": "python",
   "pygments_lexer": "ipython3",
   "version": "3.10.14"
  }
 },
 "nbformat": 4,
 "nbformat_minor": 5
}
