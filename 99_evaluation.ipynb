{
 "cells": [
  {
   "cell_type": "code",
   "execution_count": 2,
   "id": "b31f4edd-0483-4ae0-9405-42a2438b90e5",
   "metadata": {},
   "outputs": [],
   "source": [
    "import numpy as np\n",
    "import pickle, os"
   ]
  },
  {
   "cell_type": "code",
   "execution_count": 2,
   "id": "f04390be-f8d0-4d13-a0e7-0cae22e2dbdc",
   "metadata": {},
   "outputs": [],
   "source": [
    "with open(\"data/processed/2025_1Q_LGES_Audit_Report_CONFS_en_fulltext.txt\", 'r') as f:\n",
    "    lges_2025_1q_fulltext = f.read()"
   ]
  },
  {
   "cell_type": "code",
   "execution_count": 1,
   "id": "391f4f22-e275-4c3e-b00a-c8184ac878e3",
   "metadata": {},
   "outputs": [],
   "source": [
    "with open(\"data/processed/2025_2Q_LGES_audit_report_summary.txt\", 'r') as f:\n",
    "    lges_2025_2q_summ = f.read()\n",
    "\n",
    "with open(\"data/processed/2025_09_11_LGES_news_summary.txt\", \"r\") as f:\n",
    "    lges_2025_09_01_news_summary = f.read()"
   ]
  },
  {
   "cell_type": "code",
   "execution_count": 5,
   "id": "627ef16c",
   "metadata": {},
   "outputs": [],
   "source": [
    "all_about_lges_text = lges_2025_2q_summ + \"\\n\"+ lges_2025_09_01_news_summary"
   ]
  },
  {
   "cell_type": "markdown",
   "id": "ec321a42-4ccc-4997-84ae-a895dce34ae4",
   "metadata": {},
   "source": [
    "# Building synthetic dataset"
   ]
  },
  {
   "cell_type": "code",
   "execution_count": 11,
   "id": "5c370108-ee7e-4da5-b406-97b8b3722068",
   "metadata": {},
   "outputs": [],
   "source": [
    "from langchain.text_splitter import RecursiveCharacterTextSplitter\n",
    "from langchain.docstore.document import Document as LangchainDocument\n",
    "\n",
    "\n",
    "text_splitter = RecursiveCharacterTextSplitter(\n",
    "    chunk_size=500,\n",
    "    chunk_overlap=100,\n",
    "    add_start_index=True,\n",
    "    separators=[\"\\n\\n\", \"\\n\", \".\", \" \", \"\"],\n",
    ")\n",
    "\n",
    "chunks = text_splitter.create_documents([all_about_lges_text])\n",
    "\n",
    "# docs_processed = []\n",
    "# for doc in langchain_docs:\n",
    "#     docs_processed += text_splitter.split_documents([doc])"
   ]
  },
  {
   "cell_type": "code",
   "execution_count": 13,
   "id": "c86521a2-b6e6-484b-9594-3c9fd0b0773a",
   "metadata": {},
   "outputs": [
    {
     "data": {
      "text/plain": [
       "57"
      ]
     },
     "execution_count": 13,
     "metadata": {},
     "output_type": "execute_result"
    }
   ],
   "source": [
    "len(chunks)"
   ]
  }
 ],
 "metadata": {
  "kernelspec": {
   "display_name": "venv_rag",
   "language": "python",
   "name": "python3"
  },
  "language_info": {
   "codemirror_mode": {
    "name": "ipython",
    "version": 3
   },
   "file_extension": ".py",
   "mimetype": "text/x-python",
   "name": "python",
   "nbconvert_exporter": "python",
   "pygments_lexer": "ipython3",
   "version": "3.10.14"
  }
 },
 "nbformat": 4,
 "nbformat_minor": 5
}
