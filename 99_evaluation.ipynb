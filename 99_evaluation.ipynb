{
 "cells": [
  {
   "cell_type": "code",
   "execution_count": 1,
   "id": "b31f4edd-0483-4ae0-9405-42a2438b90e5",
   "metadata": {},
   "outputs": [],
   "source": [
    "import os\n",
    "import pickle\n",
    "import random, tqdm\n",
    "import pandas as pd\n",
    "import numpy as np\n",
    "\n",
    "from langchain.docstore.document import Document as LangchainDocument\n",
    "from langchain.text_splitter import RecursiveCharacterTextSplitter\n",
    "from langchain_google_genai import ChatGoogleGenerativeAI\n",
    "from langchain_openai import ChatOpenAI\n",
    "\n",
    "from prompt_templates import QAGenerationPrompts"
   ]
  },
  {
   "cell_type": "code",
   "execution_count": 3,
   "id": "31e26e89",
   "metadata": {},
   "outputs": [],
   "source": [
    "# Pydantic models for robust data validation\n",
    "from pydantic import BaseModel, ValidationError, Field, field_validator\n",
    "from typing import Optional, Dict, Any\n",
    "import re\n",
    "\n",
    "class QAPairResponse(BaseModel):\n",
    "    \"\"\"Model for validating QA pair generation response\"\"\"\n",
    "    question: str = Field(..., min_length=10, description=\"The generated question\")\n",
    "    answer: str = Field(..., min_length=20, description=\"The generated answer\")\n",
    "    context: str = Field(..., description=\"The context used for generation\")\n",
    "    generation_successful: bool = Field(default=True, description=\"Whether generation was successful\")\n",
    "    \n",
    "    @field_validator('question')\n",
    "    @classmethod\n",
    "    def validate_question(cls, v: str) -> str:\n",
    "        \"\"\"Ensure question is properly formatted\"\"\"\n",
    "        v = v.strip()\n",
    "        if not v.endswith('?'):\n",
    "            raise ValueError('Question must end with a question mark')\n",
    "        if len(v.split()) < 3:\n",
    "            raise ValueError('Question must contain at least 3 words')\n",
    "        return v\n",
    "    \n",
    "    @field_validator('answer')\n",
    "    @classmethod### **Executive Summary**\n",
    "    def validate_answer(cls, v: str) -> str:\n",
    "        \"\"\"Ensure answer is meaningful\"\"\"\n",
    "        v = v.strip()\n",
    "        if len(v.split()) < 1:\n",
    "            raise ValueError('Answer must contain at least 1 words')\n",
    "        return v"
   ]
  },
  {
   "cell_type": "code",
   "execution_count": 4,
   "id": "391f4f22-e275-4c3e-b00a-c8184ac878e3",
   "metadata": {},
   "outputs": [],
   "source": [
    "with open(\"data/processed/2025_2Q_LGES_audit_report_summary.txt\", 'r') as f:\n",
    "    lges_2025_2q_summ = f.read()\n",
    "\n",
    "with open(\"data/processed/2025_09_11_LGES_news_summary.txt\", \"r\") as f:\n",
    "    lges_2025_09_01_news_summary = f.read()"
   ]
  },
  {
   "cell_type": "code",
   "execution_count": 5,
   "id": "627ef16c",
   "metadata": {},
   "outputs": [],
   "source": [
    "all_about_lges_text = lges_2025_2q_summ + \"\\n\"+ lges_2025_09_01_news_summary"
   ]
  },
  {
   "cell_type": "markdown",
   "id": "ec321a42-4ccc-4997-84ae-a895dce34ae4",
   "metadata": {},
   "source": [
    "# Synthetic QA Dataset Generation"
   ]
  },
  {
   "cell_type": "code",
   "execution_count": 6,
   "id": "5c370108-ee7e-4da5-b406-97b8b3722068",
   "metadata": {},
   "outputs": [],
   "source": [
    "text_splitter = RecursiveCharacterTextSplitter(\n",
    "    chunk_size=1000,\n",
    "    chunk_overlap=100,\n",
    "    add_start_index=True,\n",
    "    separators=[\"\\n\\n\", \"\\n\", \".\", \" \", \"\"],\n",
    ")\n",
    "\n",
    "chunks = text_splitter.create_documents([all_about_lges_text])\n",
    "\n",
    "# docs_processed = []\n",
    "# for doc in langchain_docs:\n",
    "#     docs_processed += text_splitter.split_documents([doc])"
   ]
  },
  {
   "cell_type": "code",
   "execution_count": 7,
   "id": "38ebba45",
   "metadata": {},
   "outputs": [
    {
     "name": "stdout",
     "output_type": "stream",
     "text": [
      "Number of chunks: 25\n",
      "Sample chunk length: 980\n",
      "Total text length: 16102\n",
      "\n",
      "First chunk preview:\n",
      "### **Executive Summary**\n",
      "\n",
      "LG Energy Solution (LGES) stands as a global titan in the rapidly expanding battery industry, a critical enabler of the electric vehicle (EV) and energy storage system (ESS) revolution. Our long-term conviction in LGES remains strong, driven by its technological leadership, diversified customer base, aggressive capacity expansion, and strategic positioning to benefit from global decarbonization efforts.\n",
      "\n",
      "However, the stock's valuation has historically commanded a premium, reflecting its growth prospects. **For investors looking to initiate or increase positions, our analysis suggests a patient and tactical approach, focusing on specific market conditions and operational catalysts rather than chasing momentum.** We believe optimal entry points will emerge during periods of market consolidation, temporary operational headwinds, or when the market underappreciates LGES's long-term strategic advantages and improving profitability profile.\n",
      "\n",
      "---...\n"
     ]
    }
   ],
   "source": [
    "print(f\"Number of chunks: {len(chunks)}\")\n",
    "print(f\"Sample chunk length: {len(chunks[0].page_content) if chunks else 0}\")\n",
    "print(f\"Total text length: {len(all_about_lges_text)}\")\n",
    "\n",
    "# Display first chunk as example\n",
    "if chunks:\n",
    "    print(f\"\\nFirst chunk preview:\\n{chunks[0].page_content}...\")\n"
   ]
  },
  {
   "cell_type": "code",
   "execution_count": 8,
   "id": "095acad7",
   "metadata": {},
   "outputs": [
    {
     "name": "stdout",
     "output_type": "stream",
     "text": [
      "✅ gemini-2.5-flash initialized\n",
      "✅ gpt-4o-mini initialized\n"
     ]
    }
   ],
   "source": [
    "gemini_flash = ChatGoogleGenerativeAI(\n",
    "    model=\"gemini-2.5-flash\",\n",
    "    google_api_key=os.getenv(\"GOOGLE_API_KEY\"),\n",
    "    temperature=0.1\n",
    ")\n",
    "print(\"✅ gemini-2.5-flash initialized\")\n",
    "\n",
    "\n",
    "# Initialize OpenAI generation model\n",
    "gpt4o_mini = ChatOpenAI(\n",
    "    model=\"gpt-4o-mini\",\n",
    "    api_key=os.getenv(\"OPENAI_API_KEY\"),\n",
    "    temperature=0.1\n",
    ")\n",
    "\n",
    "print(\"✅ gpt-4o-mini initialized\")"
   ]
  },
  {
   "cell_type": "code",
   "execution_count": 9,
   "id": "0528dd7a",
   "metadata": {},
   "outputs": [],
   "source": [
    "def get_model_name(llm):\n",
    "    if hasattr(llm, 'model_name'):\n",
    "        return llm.model_name\n",
    "    elif hasattr(llm, 'model'):\n",
    "        return llm.model.split(\"/\")[-1]\n",
    "    else:\n",
    "        raise ValueError(f\"Unsupported LLM type. Expected OpenAI or Gemini model, got: {type(llm).__name__}\")\n"
   ]
  },
  {
   "cell_type": "code",
   "execution_count": 10,
   "id": "659af154",
   "metadata": {},
   "outputs": [
    {
     "name": "stdout",
     "output_type": "stream",
     "text": [
      "critique model:  gpt-4o-mini\n",
      "generation model:  gemini-2.5-flash\n"
     ]
    }
   ],
   "source": [
    "class LLMClient:\n",
    "    def __init__(self, critique_model: str, generation_model: str):\n",
    "        self.critique_llm = critique_model\n",
    "        self.generation_llm = generation_model\n",
    "\n",
    "        print(\"critique model: \", get_model_name(self.critique_llm))\n",
    "        print(\"generation model: \", get_model_name(self.generation_llm))\n",
    "    \n",
    "llm_client = LLMClient(\n",
    "    critique_model=gpt4o_mini,\n",
    "    generation_model=gemini_flash\n",
    ")"
   ]
  },
  {
   "cell_type": "code",
   "execution_count": 11,
   "id": "61b035c7",
   "metadata": {},
   "outputs": [],
   "source": [
    "# === 3. SYNTHETIC QA GENERATION PIPELINE ===\n",
    "\n",
    "class SyntheticQAGenerator:\n",
    "    \"\"\"Generate synthetic QA pairs using LLM with quality filtering\"\"\"\n",
    "    \n",
    "    def __init__(self, llm_client: LLMClient):\n",
    "        self.llm_client = llm_client\n",
    "        self.qa_prompts = QAGenerationPrompts()\n",
    "        \n",
    "    def generate_qa_pair(self, company_name:str, context: str) :\n",
    "        \"\"\"Generate a single QA pair from context using Pydantic validation\"\"\"\n",
    "        chain = self.qa_prompts.BASE_QA_GENERATION | self.llm_client.generation_llm\n",
    "        response = chain.invoke({\"company_name\": company_name, \"context\": context})\n",
    "        \n",
    "        # Pydantic-based parsing for robust validation\n",
    "        response = response.content\n",
    "        question_part = response.split(\"Factoid question:\")[-1].split(\"Answer:\")[0].strip()\n",
    "        answer_part = response.split(\"Answer:\")[1].strip()\n",
    "\n",
    "        # Returns a dict\n",
    "        qa_pair = QAPairResponse(\n",
    "            question=question_part,\n",
    "            answer=answer_part,\n",
    "            context=context\n",
    "        ).model_dump()\n",
    "\n",
    "        return qa_pair\n",
    "\n",
    "    \n",
    "    def critique_qa_pair(self, qa_pair, critique_type):\n",
    "        \"\"\"Apply quality critique to QA pair\"\"\"\n",
    "        if not qa_pair.get(\"generation_successful\", False):\n",
    "            return {\"passed\": False, \"reason\": \"Generation failed\"}\n",
    "            \n",
    "        prompt = self.qa_prompts.RELEVANCE_CRITIQUE[critique_type].format(\n",
    "            question=qa_pair[\"question\"],\n",
    "            answer=qa_pair[\"answer\"],\n",
    "            context=qa_pair.get(\"context\", \"\"),\n",
    "            question_type=qa_pair.get(\"question_type\", \"\")\n",
    "        )\n",
    "        \n",
    "        try:\n",
    "            response = self.llm_client.call_llm(prompt, max_tokens=200, temperature=0.3)\n",
    "            \n",
    "            # Parse response\n",
    "            passed = \"PASS\" in response.upper()\n",
    "            reason = \"\"\n",
    "            if \"Reason:\" in response:\n",
    "                reason = response.split(\"Reason:\")[1].strip()\n",
    "            \n",
    "            return {\"passed\": passed, \"reason\": reason, \"critique_type\": critique_type}\n",
    "            \n",
    "        except Exception as e:\n",
    "            return {\"passed\": False, \"reason\": f\"Critique failed: {str(e)}\", \"critique_type\": critique_type}\n",
    "    \n",
    "    def generate_filtered_qa_pairs(self, chunks, n_generations_per_type: int = 5, \n",
    "                                 apply_critiques: bool = True):\n",
    "        \"\"\"Generate QA pairs with quality filtering\"\"\"\n",
    "        \n",
    "        all_qa_pairs = []\n",
    "        \n",
    "        for question_type in QUESTION_TYPES.keys():\n",
    "            print(f\"\\n🔄 Generating {question_type} questions...\")\n",
    "            \n",
    "            successful_pairs = []\n",
    "            attempts = 0\n",
    "            max_attempts = n_generations_per_type * 3  # Allow more attempts than needed\n",
    "            \n",
    "            while len(successful_pairs) < n_generations_per_type and attempts < max_attempts:\n",
    "                attempts += 1\n",
    "                \n",
    "                # Sample random chunk\n",
    "                chunk = random.choice(chunks)\n",
    "                context = chunk.page_content\n",
    "                \n",
    "                # Generate QA pair\n",
    "                qa_pair = self.generate_qa_pair(context, question_type)\n",
    "                \n",
    "                if not qa_pair.get(\"generation_successful\", False):\n",
    "                    print(f\"  ❌ Generation failed: {qa_pair.get('error', 'Unknown error')}\")\n",
    "                    continue\n",
    "                \n",
    "                # Apply critiques if enabled\n",
    "                if apply_critiques:\n",
    "                    critiques_passed = []\n",
    "                    for critique_type in [\"relevance\", \"clarity\", \"complexity\"]:\n",
    "                        critique_result = self.critique_qa_pair(qa_pair, critique_type)\n",
    "                        critiques_passed.append(critique_result[\"passed\"])\n",
    "                        \n",
    "                        if not critique_result[\"passed\"]:\n",
    "                            print(f\"  ⚠️  Failed {critique_type}: {critique_result['reason']}\")\n",
    "                            break\n",
    "                    \n",
    "                    if not all(critiques_passed):\n",
    "                        continue\n",
    "                \n",
    "                # Add metadata\n",
    "                qa_pair.update({\n",
    "                    \"chunk_id\": chunks.index(chunk),\n",
    "                    \"generation_attempt\": attempts,\n",
    "                    \"critiques_applied\": apply_critiques\n",
    "                })\n",
    "                \n",
    "                successful_pairs.append(qa_pair)\n",
    "                print(f\"  ✅ Generated {question_type} question {len(successful_pairs)}/{n_generations_per_type}\")\n",
    "            \n",
    "            all_qa_pairs.extend(successful_pairs)\n",
    "            print(f\"📊 Completed {question_type}: {len(successful_pairs)}/{n_generations_per_type} successful\")\n",
    "        \n",
    "        return all_qa_pairs"
   ]
  },
  {
   "cell_type": "code",
   "execution_count": 12,
   "id": "3ca27da6",
   "metadata": {},
   "outputs": [
    {
     "name": "stdout",
     "output_type": "stream",
     "text": [
      "✅ Synthetic QA generator initialized\n"
     ]
    }
   ],
   "source": [
    "# Initialize generator\n",
    "qa_generator = SyntheticQAGenerator(llm_client)\n",
    "print(\"✅ Synthetic QA generator initialized\")"
   ]
  },
  {
   "cell_type": "code",
   "execution_count": 13,
   "id": "8458ed83",
   "metadata": {},
   "outputs": [
    {
     "name": "stderr",
     "output_type": "stream",
     "text": [
      " 40%|████      | 10/25 [01:49<02:43, 10.92s/it]\n"
     ]
    },
    {
     "ename": "IndexError",
     "evalue": "list index out of range",
     "output_type": "error",
     "traceback": [
      "\u001b[0;31m---------------------------------------------------------------------------\u001b[0m",
      "\u001b[0;31mIndexError\u001b[0m                                Traceback (most recent call last)",
      "Cell \u001b[0;32mIn[13], line 7\u001b[0m\n\u001b[1;32m      5\u001b[0m \u001b[38;5;66;03m# random.sample(chunks, int(len(chunks)*0.80))\u001b[39;00m\n\u001b[1;32m      6\u001b[0m \u001b[38;5;28;01mfor\u001b[39;00m sample_doc \u001b[38;5;129;01min\u001b[39;00m tqdm\u001b[38;5;241m.\u001b[39mtqdm(chunks):\n\u001b[0;32m----> 7\u001b[0m     qa_pair \u001b[38;5;241m=\u001b[39m \u001b[43mqa_generator\u001b[49m\u001b[38;5;241;43m.\u001b[39;49m\u001b[43mgenerate_qa_pair\u001b[49m\u001b[43m(\u001b[49m\u001b[43mcompany_name\u001b[49m\u001b[43m,\u001b[49m\u001b[43m \u001b[49m\u001b[43msample_doc\u001b[49m\u001b[38;5;241;43m.\u001b[39;49m\u001b[43mpage_content\u001b[49m\u001b[43m)\u001b[49m\n\u001b[1;32m      8\u001b[0m     qa_pairs\u001b[38;5;241m.\u001b[39mappend(qa_pair)\n",
      "Cell \u001b[0;32mIn[11], line 18\u001b[0m, in \u001b[0;36mSyntheticQAGenerator.generate_qa_pair\u001b[0;34m(self, company_name, context)\u001b[0m\n\u001b[1;32m     16\u001b[0m response \u001b[38;5;241m=\u001b[39m response\u001b[38;5;241m.\u001b[39mcontent\n\u001b[1;32m     17\u001b[0m question_part \u001b[38;5;241m=\u001b[39m response\u001b[38;5;241m.\u001b[39msplit(\u001b[38;5;124m\"\u001b[39m\u001b[38;5;124mFactoid question:\u001b[39m\u001b[38;5;124m\"\u001b[39m)[\u001b[38;5;241m-\u001b[39m\u001b[38;5;241m1\u001b[39m]\u001b[38;5;241m.\u001b[39msplit(\u001b[38;5;124m\"\u001b[39m\u001b[38;5;124mAnswer:\u001b[39m\u001b[38;5;124m\"\u001b[39m)[\u001b[38;5;241m0\u001b[39m]\u001b[38;5;241m.\u001b[39mstrip()\n\u001b[0;32m---> 18\u001b[0m answer_part \u001b[38;5;241m=\u001b[39m \u001b[43mresponse\u001b[49m\u001b[38;5;241;43m.\u001b[39;49m\u001b[43msplit\u001b[49m\u001b[43m(\u001b[49m\u001b[38;5;124;43m\"\u001b[39;49m\u001b[38;5;124;43mAnswer:\u001b[39;49m\u001b[38;5;124;43m\"\u001b[39;49m\u001b[43m)\u001b[49m\u001b[43m[\u001b[49m\u001b[38;5;241;43m1\u001b[39;49m\u001b[43m]\u001b[49m\u001b[38;5;241m.\u001b[39mstrip()\n\u001b[1;32m     20\u001b[0m \u001b[38;5;66;03m# Returns a dict\u001b[39;00m\n\u001b[1;32m     21\u001b[0m qa_pair \u001b[38;5;241m=\u001b[39m QAPairResponse(\n\u001b[1;32m     22\u001b[0m     question\u001b[38;5;241m=\u001b[39mquestion_part,\n\u001b[1;32m     23\u001b[0m     answer\u001b[38;5;241m=\u001b[39manswer_part,\n\u001b[1;32m     24\u001b[0m     context\u001b[38;5;241m=\u001b[39mcontext\n\u001b[1;32m     25\u001b[0m )\u001b[38;5;241m.\u001b[39mmodel_dump()\n",
      "\u001b[0;31mIndexError\u001b[0m: list index out of range"
     ]
    }
   ],
   "source": [
    "company_name = \"LG Energy Solution\"\n",
    "question_type = \"factual\"\n",
    "\n",
    "qa_pairs = []\n",
    "# random.sample(chunks, int(len(chunks)*0.80))\n",
    "for sample_doc in tqdm.tqdm(chunks):\n",
    "    qa_pair = qa_generator.generate_qa_pair(company_name, sample_doc.page_content)\n",
    "    qa_pairs.append(qa_pair)"
   ]
  },
  {
   "cell_type": "markdown",
   "id": "f2b12a26",
   "metadata": {},
   "source": [
    "## Evaluate synthetic QA pairs"
   ]
  },
  {
   "cell_type": "code",
   "execution_count": 16,
   "id": "0e07a435",
   "metadata": {},
   "outputs": [],
   "source": [
    "def evaluate_synthetic_qa_pairs(qa_pair, model, critique_type):\n",
    "    if critique_type == \"groundedness\":\n",
    "        chain = QAGenerationPrompts.GROUNDEDNESS_CRITIQUE_PROMPT | model\n",
    "        response = chain.invoke({\"question\": qa_pair[\"question\"],   \n",
    "                                 \"context\": qa_pair[\"context\"]})\n",
    "    elif critique_type == \"relevance\":\n",
    "        chain = QAGenerationPrompts.RELEVANCE_CRITIQUE_PROMPT | model\n",
    "        response = chain.invoke({\"question\": qa_pair[\"question\"]})\n",
    "    elif critique_type == \"pair_quality\":\n",
    "        chain = QAGenerationPrompts.QA_PAIR_CRITIQUE_PROMPT | model\n",
    "        response = chain.invoke({\"question\": qa_pair[\"question\"],\n",
    "                                 \"answer\": qa_pair[\"answer\"],\n",
    "                                 \"context\": qa_pair[\"context\"]})\n",
    "    return response\n",
    "\n",
    "for qa_pair in qa_pairs:\n",
    "    criterions = [\"groundedness\", \"relevance\", \"pair_quality\"]\n",
    "    for criterion in criterions:\n",
    "        response = evaluate_synthetic_qa_pairs(\n",
    "            qa_pair, llm_client.generation_llm, criterion)\n",
    "        response = response.content\n",
    "        score = response.split(\"Total rating: \")[-1].strip()\n",
    "        _eval = response.split(\"Evaluation: \")[-1].split(\"Total rating: \")[0].strip()\n",
    "        qa_pair.update({f\"{criterion}_score\": score,\n",
    "                         f\"{criterion}_eval\": _eval})"
   ]
  },
  {
   "cell_type": "code",
   "execution_count": 17,
   "id": "d24fc7b2",
   "metadata": {},
   "outputs": [],
   "source": [
    "df = pd.DataFrame(qa_pairs)\n",
    "df = df.astype({'groundedness_score': 'int',\n",
    "                'relevance_score': 'int', \n",
    "                'pair_quality_score': 'int'})\n",
    "df['high_quality'] = ((df['groundedness_score'] > 3) \n",
    "                    & (df['relevance_score'] > 3) \n",
    "                    & (df['pair_quality_score'] > 3))"
   ]
  },
  {
   "cell_type": "code",
   "execution_count": 18,
   "id": "f093964c",
   "metadata": {},
   "outputs": [],
   "source": [
    "df.to_parquet(\"data/synthetic_qa_lges.parquet\")"
   ]
  },
  {
   "cell_type": "code",
   "execution_count": null,
   "id": "1efe8ba5",
   "metadata": {},
   "outputs": [],
   "source": [
    "eval_df = pd.read_parquet(\"data/synthetic_qa_lges.parquet\")"
   ]
  },
  {
   "cell_type": "code",
   "execution_count": null,
   "id": "672adf94",
   "metadata": {},
   "outputs": [],
   "source": [
    "import datasets\n",
    "\n",
    "eval_dataset = datasets.Dataset.from_pandas(df, split=\"train\", preserve_index=False)"
   ]
  },
  {
   "cell_type": "code",
   "execution_count": 20,
   "id": "9291b963",
   "metadata": {},
   "outputs": [
    {
     "data": {
      "text/plain": [
       "Dataset({\n",
       "    features: ['question', 'answer', 'context', 'generation_successful', 'groundedness_score', 'groundedness_eval', 'relevance_score', 'relevance_eval', 'pair_quality_score', 'pair_quality_eval', 'high_quality'],\n",
       "    num_rows: 10\n",
       "})"
      ]
     },
     "execution_count": 20,
     "metadata": {},
     "output_type": "execute_result"
    }
   ],
   "source": [
    "eval_dataset"
   ]
  },
  {
   "cell_type": "code",
   "execution_count": null,
   "id": "337deeee",
   "metadata": {},
   "outputs": [],
   "source": [
    "from pprint import pprint"
   ]
  },
  {
   "cell_type": "code",
   "execution_count": null,
   "id": "ab27a24d",
   "metadata": {},
   "outputs": [
    {
     "name": "stdout",
     "output_type": "stream",
     "text": [
      "\n",
      "Question: What investment approach is suggested for investors looking to buy LG Energy Solution stock? \n",
      "\n",
      "Answer: For investors aiming to initiate or increase positions in LG Energy Solution, a patient and tactical approach is suggested. This strategy emphasizes focusing on specific market conditions and operational catalysts rather than simply chasing market momentum. \n",
      "\n",
      "Context: ### **Executive Summary**\n",
      "\n",
      "LG Energy Solution (LGES) stands as a global titan in the rapidly expanding battery industry, a critical enabler of the electric vehicle (EV) and energy storage system (ESS) revolution. Our long-term conviction in LGES remains strong, driven by its technological leadership, diversified customer base, aggressive capacity expansion, and strategic positioning to benefit from global decarbonization efforts.\n",
      "\n",
      "However, the stock's valuation has historically commanded a premium, reflecting its growth prospects. **For investors looking to initiate or increase positions, our analysis suggests a patient and tactical approach, focusing on specific market conditions and operational catalysts rather than chasing momentum.** We believe optimal entry points will emerge during periods of market consolidation, temporary operational headwinds, or when the market underappreciates LGES's long-term strategic advantages and improving profitability profile.\n",
      "\n",
      "--- \n",
      "\n",
      "Groundness Score: 5 \n",
      "\n",
      "Relevance Score: 4 \n",
      "\n",
      "Pair Quality Score: 5\n",
      "\n"
     ]
    }
   ],
   "source": [
    "N = 0\n",
    "\n",
    "print(f\"\"\"\n",
    "Question: {eval_df.iloc[N][\"question\"]} \\n\n",
    "Answer: {eval_df.iloc[N][\"answer\"]} \\n\n",
    "Context: {eval_df.iloc[N][\"context\"]} \\n\n",
    "Groundness Score: {eval_df.iloc[N][\"groundedness_score\"]} \\n\n",
    "Relevance Score: {eval_df.iloc[N][\"relevance_score\"]} \\n\n",
    "Pair Quality Score: {eval_df.iloc[N][\"pair_quality_score\"]}\n",
    "\"\"\"\n",
    ")"
   ]
  },
  {
   "cell_type": "code",
   "execution_count": null,
   "id": "20eee63b",
   "metadata": {},
   "outputs": [],
   "source": [
    "df"
   ]
  },
  {
   "cell_type": "code",
   "execution_count": 24,
   "id": "a20039a7",
   "metadata": {},
   "outputs": [
    {
     "data": {
      "text/plain": [
       "<Axes: >"
      ]
     },
     "execution_count": 24,
     "metadata": {},
     "output_type": "execute_result"
    },
    {
     "data": {
      "image/png": "[encoded data removed]",
      "text/plain": [
       "<Figure size 640x480 with 1 Axes>"
      ]
     },
     "metadata": {},
     "output_type": "display_data"
    }
   ],
   "source": [
    "eval_df['groundedness_score'].sort_values().hist(label='Groundedness Score')"
   ]
  },
  {
   "cell_type": "code",
   "execution_count": 25,
   "id": "dbb8d31e",
   "metadata": {},
   "outputs": [
    {
     "data": {
      "text/plain": [
       "<Axes: >"
      ]
     },
     "execution_count": 25,
     "metadata": {},
     "output_type": "execute_result"
    },
    {
     "data": {
      "image/png": "[encoded data removed]",
      "text/plain": [
       "<Figure size 640x480 with 1 Axes>"
      ]
     },
     "metadata": {},
     "output_type": "display_data"
    }
   ],
   "source": [
    "eval_df['relevance_score'].sort_values().hist()"
   ]
  },
  {
   "cell_type": "code",
   "execution_count": 26,
   "id": "0a3c92a2",
   "metadata": {},
   "outputs": [
    {
     "data": {
      "text/plain": [
       "<Axes: >"
      ]
     },
     "execution_count": 26,
     "metadata": {},
     "output_type": "execute_result"
    },
    {
     "data": {
      "image/png": "[encoded data removed]",
      "text/plain": [
       "<Figure size 640x480 with 1 Axes>"
      ]
     },
     "metadata": {},
     "output_type": "display_data"
    }
   ],
   "source": [
    "eval_df['pair_quality_score'].sort_values().hist()"
   ]
  },
  {
   "cell_type": "code",
   "execution_count": 27,
   "id": "6fe4e3f0",
   "metadata": {},
   "outputs": [
    {
     "data": {
      "text/plain": [
       "(10, 11)"
      ]
     },
     "execution_count": 27,
     "metadata": {},
     "output_type": "execute_result"
    }
   ],
   "source": [
    "eval_df.shape"
   ]
  },
  {
   "cell_type": "code",
   "execution_count": null,
   "id": "6afa2dd0",
   "metadata": {},
   "outputs": [],
   "source": [
    "# === 6. LLM-AS-A-JUDGE EVALUATION ===\n",
    "# Following HuggingFace approach for answer quality evaluation\n",
    "\n",
    "class LLMJudgeEvaluator:\n",
    "    \"\"\"\n",
    "    LLM-as-a-judge evaluator following HuggingFace methodology\n",
    "    \"\"\"\n",
    "    \n",
    "    def __init__(self, llm_client: LLMClient):\n",
    "        self.llm_client = llm_client\n",
    "        \n",
    "    # Evaluation prompt based on HuggingFace cookbook\n",
    "    EVALUATION_PROMPT = \"\"\"###Task Description:\n",
    "An instruction (might include an Input inside it), a response to evaluate, a reference answer that gets a score of 5, and a score rubric representing a evaluation criteria are given.\n",
    "1. Write a detailed feedback that assess the quality of the response strictly based on the given score rubric, not evaluating in general.\n",
    "2. After writing a feedback, write a score that is an integer between 1 and 5. You should refer to the score rubric.\n",
    "3. The output format should look as follows: \"Feedback: {{write a feedback for criteria}} [RESULT] {{an integer number between 1 and 5}}\"\n",
    "4. Please do not generate any other opening, closing, and explanations. Be sure to include [RESULT] in your output.\n",
    "\n",
    "###The instruction to evaluate:\n",
    "{instruction}\n",
    "\n",
    "###Response to evaluate:\n",
    "{response}\n",
    "\n",
    "###Reference Answer (Score 5):\n",
    "{reference_answer}\n",
    "\n",
    "###Score Rubrics:\n",
    "[Is the response correct, accurate, and factual based on the reference answer?]\n",
    "Score 1: The response is completely incorrect, inaccurate, and/or not factual.\n",
    "Score 2: The response is mostly incorrect, inaccurate, and/or not factual.\n",
    "Score 3: The response is somewhat correct, accurate, and/or factual.\n",
    "Score 4: The response is mostly correct, accurate, and factual.\n",
    "Score 5: The response is completely correct, accurate, and factual.\n",
    "\n",
    "###Feedback:\"\"\"\n",
    "\n",
    "    def evaluate_answer(self, question: str, generated_answer: str, reference_answer: str) -> Dict:\n",
    "        \"\"\"\n",
    "        Evaluate a generated answer against reference using LLM-as-a-judge\n",
    "        \"\"\"\n",
    "        prompt = self.EVALUATION_PROMPT.format(\n",
    "            instruction=question,\n",
    "            response=generated_answer,\n",
    "            reference_answer=reference_answer\n",
    "        )\n",
    "        \n",
    "        try:\n",
    "            response = self.llm_client.call_llm(prompt, max_tokens=300, temperature=0.1)\n",
    "            \n",
    "            # Parse feedback and score\n",
    "            if \"[RESULT]\" in response:\n",
    "                parts = response.split(\"[RESULT]\")\n",
    "                feedback = parts[0].replace(\"Feedback:\", \"\").strip()\n",
    "                score_text = parts[1].strip()\n",
    "                \n",
    "                # Extract numeric score\n",
    "                score = None\n",
    "                for char in score_text:\n",
    "                    if char.isdigit():\n",
    "                        score = int(char)\n",
    "                        break\n",
    "                \n",
    "                if score is None:\n",
    "                    score = 1  # Default to lowest score if parsing fails\n",
    "                    \n",
    "                # Normalize score to 0-1 range\n",
    "                normalized_score = (score - 1) / 4\n",
    "                \n",
    "                return {\n",
    "                    \"feedback\": feedback,\n",
    "                    \"raw_score\": score,\n",
    "                    \"normalized_score\": normalized_score,\n",
    "                    \"evaluation_successful\": True\n",
    "                }\n",
    "            else:\n",
    "                return {\n",
    "                    \"feedback\": \"Failed to parse evaluation\",\n",
    "                    \"raw_score\": 1,\n",
    "                    \"normalized_score\": 0.0,\n",
    "                    \"evaluation_successful\": False\n",
    "                }\n",
    "                \n",
    "        except Exception as e:\n",
    "            return {\n",
    "                \"feedback\": f\"Evaluation failed: {str(e)}\",\n",
    "                \"raw_score\": 1,\n",
    "                \"normalized_score\": 0.0,\n",
    "                \"evaluation_successful\": False\n",
    "            }\n",
    "\n",
    "# Combined retrieval and generation evaluator\n",
    "class RAGEvaluator:\n",
    "    \"\"\"\n",
    "    Complete RAG evaluation combining retrieval metrics and LLM-as-a-judge\n",
    "    \"\"\"\n",
    "    \n",
    "    def __init__(self, llm_client: LLMClient):\n",
    "        self.llm_judge = LLMJudgeEvaluator(llm_client)\n",
    "        \n",
    "    def evaluate_rag_system(self, retrieval_function, generation_function, \n",
    "                          qa_dataset: List[Dict], k: int = 3) -> Dict:\n",
    "        \"\"\"\n",
    "        Comprehensive RAG evaluation\n",
    "        \n",
    "        Args:\n",
    "            retrieval_function: Function that takes (question, k) and returns retrieved chunks\n",
    "            generation_function: Function that takes (question, contexts) and returns answer\n",
    "            qa_dataset: List of QA pairs with ground truth\n",
    "            k: Number of chunks to retrieve\n",
    "        \"\"\"\n",
    "        results = []\n",
    "        overall_metrics = {\n",
    "            'retrieval': {'precision_at_k': [], 'recall_at_k': [], 'mrr': [], 'ndcg_at_k': []},\n",
    "            'generation': {'scores': [], 'normalized_scores': []}\n",
    "        }\n",
    "        \n",
    "        print(f\"🔄 Evaluating RAG system on {len(qa_dataset)} questions...\")\n",
    "        \n",
    "        for i, qa_item in enumerate(qa_dataset):\n",
    "            question = qa_item['question']\n",
    "            reference_answer = qa_item['answer']\n",
    "            ground_truth_chunk_id = qa_item.get('chunk_id', None)\n",
    "            \n",
    "            try:\n",
    "                # 1. Evaluate retrieval\n",
    "                retrieved_chunks = retrieval_function(question, k=k)\n",
    "                \n",
    "                # For retrieval evaluation, we use the source chunk as ground truth\n",
    "                ground_truth_chunks = [ground_truth_chunk_id] if ground_truth_chunk_id is not None else []\n",
    "                \n",
    "                retrieval_metrics = self.evaluate_retrieval(retrieved_chunks, ground_truth_chunks, k)\n",
    "                \n",
    "                # 2. Generate answer using retrieved contexts\n",
    "                contexts = [chunk.get('content', chunk.get('page_content', '')) for chunk in retrieved_chunks]\n",
    "                generated_answer = generation_function(question, contexts)\n",
    "                \n",
    "                # 3. Evaluate generation quality\n",
    "                generation_eval = self.llm_judge.evaluate_answer(question, generated_answer, reference_answer)\n",
    "                \n",
    "                # Store results\n",
    "                result = {\n",
    "                    'question': question,\n",
    "                    'question_type': qa_item.get('question_type', 'unknown'),\n",
    "                    'reference_answer': reference_answer,\n",
    "                    'generated_answer': generated_answer,\n",
    "                    'retrieved_chunks': retrieved_chunks,\n",
    "                    'ground_truth_chunk': ground_truth_chunk_id,\n",
    "                    'retrieval_metrics': retrieval_metrics,\n",
    "                    'generation_evaluation': generation_eval\n",
    "                }\n",
    "                results.append(result)\n",
    "                \n",
    "                # Accumulate metrics\n",
    "                for metric_name, value in retrieval_metrics.items():\n",
    "                    overall_metrics['retrieval'][metric_name].append(value)\n",
    "                \n",
    "                overall_metrics['generation']['scores'].append(generation_eval['raw_score'])\n",
    "                overall_metrics['generation']['normalized_scores'].append(generation_eval['normalized_score'])\n",
    "                \n",
    "                if (i + 1) % 5 == 0:\n",
    "                    print(f\"  ✅ Evaluated {i + 1}/{len(qa_dataset)} questions\")\n",
    "                    \n",
    "            except Exception as e:\n",
    "                print(f\"  ❌ Error evaluating question {i + 1}: {str(e)}\")\n",
    "                continue\n",
    "        \n",
    "        # Calculate overall averages\n",
    "        avg_metrics = {\n",
    "            'retrieval': {},\n",
    "            'generation': {}\n",
    "        }\n",
    "        \n",
    "        for metric_name, values in overall_metrics['retrieval'].items():\n",
    "            avg_metrics['retrieval'][metric_name] = np.mean(values) if values else 0.0\n",
    "            \n",
    "        avg_metrics['generation']['avg_score'] = np.mean(overall_metrics['generation']['scores']) if overall_metrics['generation']['scores'] else 0.0\n",
    "        avg_metrics['generation']['avg_normalized_score'] = np.mean(overall_metrics['generation']['normalized_scores']) if overall_metrics['generation']['normalized_scores'] else 0.0\n",
    "        \n",
    "        return {\n",
    "            'overall_metrics': avg_metrics,\n",
    "            'detailed_results': results,\n",
    "            'total_evaluated': len(results)\n",
    "        }\n",
    "    \n",
    "    @staticmethod\n",
    "    def evaluate_retrieval(retrieved_chunks, ground_truth_chunks, k=3):\n",
    "        \"\"\"Retrieval evaluation metrics\"\"\"\n",
    "        if not retrieved_chunks or not ground_truth_chunks:\n",
    "            return {'precision_at_k': 0.0, 'recall_at_k': 0.0, 'mrr': 0.0, 'ndcg_at_k': 0.0}\n",
    "            \n",
    "        retrieved_k = retrieved_chunks[:k]\n",
    "        retrieved_ids = set([chunk.get('chunk_id', chunk.get('id', i)) for i, chunk in enumerate(retrieved_k)])\n",
    "        ground_truth_ids = set(ground_truth_chunks)\n",
    "        \n",
    "        relevant_retrieved = len(retrieved_ids.intersection(ground_truth_ids))\n",
    "        \n",
    "        # Precision@K\n",
    "        precision = relevant_retrieved / min(len(retrieved_k), k)\n",
    "        \n",
    "        # Recall@K  \n",
    "        recall = relevant_retrieved / len(ground_truth_ids)\n",
    "        \n",
    "        # MRR\n",
    "        mrr = 0.0\n",
    "        for rank, chunk in enumerate(retrieved_k, 1):\n",
    "            chunk_id = chunk.get('chunk_id', chunk.get('id', rank-1))\n",
    "            if chunk_id in ground_truth_ids:\n",
    "                mrr = 1.0 / rank\n",
    "                break\n",
    "        \n",
    "        # NDCG@K (simplified)\n",
    "        dcg = sum(1.0 / np.log2(rank + 1) for rank, chunk in enumerate(retrieved_k, 1) \n",
    "                 if chunk.get('chunk_id', chunk.get('id', rank-1)) in ground_truth_ids)\n",
    "        idcg = sum(1.0 / np.log2(rank + 1) for rank in range(1, min(len(ground_truth_ids), k) + 1))\n",
    "        ndcg = dcg / idcg if idcg > 0 else 0.0\n",
    "        \n",
    "        return {\n",
    "            'precision_at_k': precision,\n",
    "            'recall_at_k': recall,\n",
    "            'mrr': mrr,\n",
    "            'ndcg_at_k': ndcg\n",
    "        }\n",
    "\n",
    "# Initialize evaluator\n",
    "rag_evaluator = RAGEvaluator(llm_client)\n",
    "print(\"✅ LLM-as-a-judge RAG evaluator initialized\")\n"
   ]
  },
  {
   "cell_type": "code",
   "execution_count": null,
   "id": "71f7841a",
   "metadata": {},
   "outputs": [],
   "source": [
    "print(\"- Precision@K: Fraction of retrieved chunks that are relevant\")\n",
    "print(\"- Recall@K: Fraction of relevant chunks that are retrieved\") \n",
    "print(\"- MRR: Mean Reciprocal Rank of first relevant chunk\")\n",
    "print(\"- NDCG@K: Normalized Discounted Cumulative Gain\")\n",
    "\n",
    "# Example evaluation\n",
    "example_qa = synthetic_qa_dataset[0]\n",
    "print(f\"\\n=== EXAMPLE EVALUATION ===\")\n",
    "print(f\"Question: {example_qa['question']}\")\n",
    "print(f\"Ground truth chunks: {example_qa['ground_truth_chunk_ids']}\")\n",
    "\n",
    "# Simulate retrieval results (in practice, this would come from your retrieval system)\n",
    "simulated_retrieval = [\n",
    "    {'chunk_id': example_qa['ground_truth_chunk_ids'][0]},  # First ground truth chunk\n",
    "    {'chunk_id': 999},  # Irrelevant chunk\n",
    "    {'chunk_id': example_qa['ground_truth_chunk_ids'][1] if len(example_qa['ground_truth_chunk_ids']) > 1 else 998}  # Second ground truth or irrelevant\n",
    "]\n",
    "\n",
    "metrics = RetrievalEvaluator.evaluate_retrieval(\n",
    "    simulated_retrieval, \n",
    "    example_qa['ground_truth_chunk_ids'], \n",
    "    k=3\n",
    ")\n",
    "\n",
    "print(f\"\\nSimulated retrieval results: {[chunk['chunk_id'] for chunk in simulated_retrieval]}\")\n",
    "print(\"Evaluation metrics:\")\n",
    "for metric_name, value in metrics.items():\n",
    "    print(f\"  {metric_name}: {value:.3f}\")\n"
   ]
  },
  {
   "cell_type": "code",
   "execution_count": null,
   "id": "dcc28abb",
   "metadata": {},
   "outputs": [],
   "source": [
    "# Save the synthetic QA dataset\n",
    "import json\n",
    "from datetime import datetime\n",
    "\n",
    "# Create dataset metadata\n",
    "dataset_metadata = {\n",
    "    \"name\": \"LGES_Synthetic_QA_Dataset\",\n",
    "    \"description\": \"Synthetic question-answer dataset for evaluating retrieval in LGES RAG pipeline\",\n",
    "    \"created_date\": datetime.now().isoformat(),\n",
    "    \"total_questions\": len(synthetic_qa_dataset),\n",
    "    \"question_types\": type_counts,\n",
    "    \"difficulty_distribution\": difficulty_counts,\n",
    "    \"source_text\": \"all_about_lges_text (2Q audit report summary + news summary)\",\n",
    "    \"chunk_settings\": {\n",
    "        \"chunk_size\": 500,\n",
    "        \"chunk_overlap\": 100,\n",
    "        \"total_chunks\": len(chunks)\n",
    "    }\n",
    "}\n",
    "\n",
    "# Prepare the complete dataset\n",
    "complete_dataset = {\n",
    "    \"metadata\": dataset_metadata,\n",
    "    \"questions\": synthetic_qa_dataset,\n",
    "    \"chunks\": [{\"chunk_id\": i, \"content\": chunk.page_content, \"metadata\": chunk.metadata if hasattr(chunk, 'metadata') else {}} \n",
    "              for i, chunk in enumerate(chunks)]\n",
    "}\n",
    "\n",
    "# Save to JSON file\n",
    "output_file = \"data/synthetic_qa_lges_dataset.json\"\n",
    "with open(output_file, 'w', encoding='utf-8') as f:\n",
    "    json.dump(complete_dataset, f, indent=2, ensure_ascii=False)\n",
    "\n",
    "print(f\"✅ Synthetic QA dataset saved to: {output_file}\")\n",
    "print(f\"📊 Dataset contains {len(synthetic_qa_dataset)} questions and {len(chunks)} chunks\")\n"
   ]
  },
  {
   "cell_type": "code",
   "execution_count": null,
   "id": "fc1d03d1",
   "metadata": {},
   "outputs": [],
   "source": [
    "# === 7. SAVE SYNTHETIC DATASET AND SETUP FOR EVALUATION ===\n",
    "\n",
    "def save_synthetic_dataset(qa_dataset: List[Dict], chunks: List, filename: str = \"data/synthetic_qa_lges_advanced.json\"):\n",
    "    \"\"\"Save the generated synthetic dataset with metadata\"\"\"\n",
    "    \n",
    "    if not qa_dataset:\n",
    "        print(\"⚠️  No QA dataset to save\")\n",
    "        return\n",
    "        \n",
    "    # Create dataset metadata\n",
    "    type_counts = {}\n",
    "    for qa in qa_dataset:\n",
    "        qtype = qa[\"question_type\"]\n",
    "        type_counts[qtype] = type_counts.get(qtype, 0) + 1\n",
    "    \n",
    "    dataset_metadata = {\n",
    "        \"name\": \"LGES_Advanced_Synthetic_QA_Dataset\",\n",
    "        \"description\": \"Advanced synthetic QA dataset generated using LLM with critique filtering\",\n",
    "        \"created_date\": datetime.now().isoformat(),\n",
    "        \"generation_method\": \"LLM-based with critique agents\",\n",
    "        \"llm_provider\": llm_client.provider,\n",
    "        \"llm_model\": llm_client.model_name,\n",
    "        \"total_questions\": len(qa_dataset),\n",
    "        \"question_types\": type_counts,\n",
    "        \"source_text\": \"all_about_lges_text (2Q audit report + news summary)\",\n",
    "        \"chunk_settings\": {\n",
    "            \"chunk_size\": 500,\n",
    "            \"chunk_overlap\": 100,\n",
    "            \"total_chunks\": len(chunks)\n",
    "        },\n",
    "        \"evaluation_ready\": True\n",
    "    }\n",
    "    \n",
    "    # Prepare complete dataset\n",
    "    complete_dataset = {\n",
    "        \"metadata\": dataset_metadata,\n",
    "        \"qa_pairs\": qa_dataset,\n",
    "        \"chunks\": [\n",
    "            {\n",
    "                \"chunk_id\": i, \n",
    "                \"content\": chunk.page_content, \n",
    "                \"metadata\": chunk.metadata if hasattr(chunk, 'metadata') else {}\n",
    "            } \n",
    "            for i, chunk in enumerate(chunks)\n",
    "        ]\n",
    "    }\n",
    "    \n",
    "    # Save to file\n",
    "    with open(filename, 'w', encoding='utf-8') as f:\n",
    "        json.dump(complete_dataset, f, indent=2, ensure_ascii=False)\n",
    "    \n",
    "    print(f\"✅ Advanced synthetic dataset saved to: {filename}\")\n",
    "    print(f\"📊 Contains {len(qa_dataset)} questions across {len(type_counts)} types\")\n",
    "    return filename\n",
    "\n",
    "# Save the dataset\n",
    "if synthetic_qa_dataset:\n",
    "    dataset_file = save_synthetic_dataset(synthetic_qa_dataset, chunks)\n",
    "else:\n",
    "    print(\"⚠️  No synthetic dataset generated yet - run the generation cell above\")\n"
   ]
  },
  {
   "cell_type": "code",
   "execution_count": null,
   "id": "18d1a608",
   "metadata": {},
   "outputs": [],
   "source": [
    "# === 8. INTEGRATION GUIDE AND USAGE EXAMPLES ===\n",
    "\n",
    "print(\"🔗 INTEGRATION WITH YOUR RAG SYSTEM\")\n",
    "print(\"=\" * 50)\n",
    "\n",
    "print(\"\"\"\n",
    "🚀 STEP 1: Define Your RAG Functions\n",
    "────────────────────────────────────\n",
    "\n",
    "# Example: Load your existing vector store\n",
    "import pickle\n",
    "\n",
    "# Load vector store (adapt to your setup)\n",
    "with open('data/vector_stores/flat/index.pkl', 'rb') as f:\n",
    "    vector_store = pickle.load(f)\n",
    "\n",
    "# Define retrieval function\n",
    "def my_retrieval_function(question, k=3):\n",
    "    '''Retrieve relevant chunks for a question'''\n",
    "    docs = vector_store.similarity_search(question, k=k)\n",
    "    \n",
    "    # Convert to expected format\n",
    "    retrieved_chunks = []\n",
    "    for i, doc in enumerate(docs):\n",
    "        retrieved_chunks.append({\n",
    "            'chunk_id': i,  # Map to actual chunk ID\n",
    "            'content': doc.page_content,\n",
    "            'score': getattr(doc, 'score', 0.0)\n",
    "        })\n",
    "    return retrieved_chunks\n",
    "\n",
    "# Define generation function\n",
    "def my_generation_function(question, contexts):\n",
    "    '''Generate answer using retrieved contexts'''\n",
    "    # Combine contexts\n",
    "    context_text = \"\\\\n\\\\n\".join(contexts)\n",
    "    \n",
    "    # Generate answer (use your LLM client)\n",
    "    prompt = f\"Question: {question}\\\\n\\\\nContext: {context_text}\\\\n\\\\nAnswer:\"\n",
    "    answer = llm_client.call_llm(prompt, max_tokens=200)\n",
    "    \n",
    "    return answer\n",
    "\n",
    "🚀 STEP 2: Run Complete RAG Evaluation\n",
    "────────────────────────────────────\n",
    "\n",
    "# Evaluate your complete RAG system\n",
    "results = rag_evaluator.evaluate_rag_system(\n",
    "    retrieval_function=my_retrieval_function,\n",
    "    generation_function=my_generation_function,\n",
    "    qa_dataset=synthetic_qa_dataset,\n",
    "    k=3\n",
    ")\n",
    "\n",
    "🚀 STEP 3: Analyze Results\n",
    "──────────────────────────\n",
    "\n",
    "# Print overall metrics\n",
    "print(\"RETRIEVAL METRICS:\")\n",
    "for metric, value in results['overall_metrics']['retrieval'].items():\n",
    "    print(f\"  {metric}: {value:.3f}\")\n",
    "\n",
    "print(\"\\\\nGENERATION METRICS:\")\n",
    "print(f\"  Average Score: {results['overall_metrics']['generation']['avg_score']:.2f}/5\")\n",
    "print(f\"  Normalized Score: {results['overall_metrics']['generation']['avg_normalized_score']:.3f}\")\n",
    "\n",
    "# Analyze by question type\n",
    "import pandas as pd\n",
    "df = pd.DataFrame(results['detailed_results'])\n",
    "type_performance = df.groupby('question_type').agg({\n",
    "    'generation_evaluation': lambda x: np.mean([eval_result['normalized_score'] for eval_result in x])\n",
    "}).round(3)\n",
    "print(\"\\\\nPerformance by Question Type:\")\n",
    "print(type_performance)\n",
    "\"\"\")\n",
    "\n",
    "print(\"\\n💡 TIPS FOR IMPROVEMENT:\")\n",
    "print(\"─\" * 25)\n",
    "print(\"1. 📊 Experiment with different chunk sizes (200, 500, 1000 tokens)\")\n",
    "print(\"2. 🔄 Try different embedding models (OpenAI, sentence-transformers)\")  \n",
    "print(\"3. 🎯 Add reranking for better retrieval precision\")\n",
    "print(\"4. 📝 Improve generation prompts based on question types\")\n",
    "print(\"5. 🔍 Analyze failed cases to identify systematic issues\")\n",
    "\n",
    "print(f\"\\n✅ Setup complete! Your synthetic QA dataset is ready for evaluation.\")\n",
    "print(f\"📁 Dataset saved with {len(synthetic_qa_dataset) if synthetic_qa_dataset else 0} questions\")\n",
    "print(f\"🎯 Follow the HuggingFace methodology: {('https://huggingface.co/learn/cookbook/en/rag_evaluation')}\")\n"
   ]
  },
  {
   "cell_type": "code",
   "execution_count": null,
   "id": "c86521a2-b6e6-484b-9594-3c9fd0b0773a",
   "metadata": {},
   "outputs": [],
   "source": [
    "len(chunks)"
   ]
  }
 ],
 "metadata": {
  "kernelspec": {
   "display_name": "venv_rag",
   "language": "python",
   "name": "python3"
  },
  "language_info": {
   "codemirror_mode": {
    "name": "ipython",
    "version": 3
   },
   "file_extension": ".py",
   "mimetype": "text/x-python",
   "name": "python",
   "nbconvert_exporter": "python",
   "pygments_lexer": "ipython3",
   "version": "3.10.14"
  }
 },
 "nbformat": 4,
 "nbformat_minor": 5
}
