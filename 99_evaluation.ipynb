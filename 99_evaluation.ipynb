{
 "cells": [
  {
   "cell_type": "code",
   "execution_count": null,
   "id": "b31f4edd-0483-4ae0-9405-42a2438b90e5",
   "metadata": {},
   "outputs": [],
   "source": [
    "import numpy as np\n",
    "import pickle, os"
   ]
  },
  {
   "cell_type": "code",
   "execution_count": 2,
   "id": "f04390be-f8d0-4d13-a0e7-0cae22e2dbdc",
   "metadata": {},
   "outputs": [],
   "source": [
    "with open(\"data/processed/2025_1Q_LGES_Audit_Report_CONFS_en_fulltext.txt\", 'r') as f:\n",
    "    lges_2025_1q_fulltext = f.read()"
   ]
  },
  {
   "cell_type": "code",
   "execution_count": 5,
   "id": "391f4f22-e275-4c3e-b00a-c8184ac878e3",
   "metadata": {},
   "outputs": [],
   "source": [
    "with open(\"data/processed/2025_2Q_LGES_audit_report_summary.txt\", 'r') as f:\n",
    "    lges_2025_2q_summ = f.read()"
   ]
  },
  {
   "cell_type": "code",
   "execution_count": 7,
   "id": "bffcbeae-e212-4a2d-b94d-e8ca5cbb358b",
   "metadata": {},
   "outputs": [
    {
     "name": "stdout",
     "output_type": "stream",
     "text": [
      "### **Executive Summary**\n",
      "\n",
      "LG Energy Solution (LGES) stands as a global titan in the rapidly expanding battery industry, a critical enabler of the electric vehicle (EV) and energy storage system (ESS) revolution. Our long-term conviction in LGES remains strong, driven by its technological leadership, diversified customer base, aggressive capacity expansion, and strategic positioning to benefit from global decarbonization efforts.\n",
      "\n",
      "However, the stock's valuation has historically commanded a premium, reflecting its growth prospects. **For investors looking to initiate or increase positions, our analysis suggests a patient and tactical approach, focusing on specific market conditions and operational catalysts rather than chasing momentum.** We believe optimal entry points will emerge during periods of market consolidation, temporary operational headwinds, or when the market underappreciates LGES's long-term strategic advantages and improving profitability profile.\n",
      "\n",
      "---\n",
      "\n",
      "### **Company Overview**\n",
      "\n",
      "LG Energy Solution, spun off from LG Chem in 2020, is a leading global manufacturer of lithium-ion batteries for electric vehicles (EVs), energy storage systems (ESS), and small-format applications. With a diverse product portfolio including pouch, cylindrical, and prismatic cells, LGES boasts an impressive roster of global OEM clients such as General Motors, Hyundai, Stellantis, Volkswagen, Tesla, Ford, Lucid, BMW, and Mercedes-Benz. The company is aggressively expanding its global manufacturing footprint, particularly in North America, to capitalize on the Inflation Reduction Act (IRA) benefits and meet surging demand.\n",
      "\n",
      "---\n",
      "\n",
      "### **Key Financial Highlights (Based on Recent Trends & Industry Expectations)**\n",
      "\n",
      "*   **Revenue Growth:** Consistently strong, driven by robust EV demand and significant capacity additions. We've observed double-digit to triple-digit percentage growth year-over-year, though the pace may normalize slightly as the base grows larger.\n",
      "*   **Gross Margins:** Have shown volatility. Initial ramp-up costs for new facilities, fluctuating raw material prices (lithium, nickel, cobalt), and initial pricing pressure from OEMs have impacted profitability. However, we anticipate gradual improvement as new plants achieve economies of scale, raw material costs stabilize, and the benefits of the IRA (Advanced Manufacturing Production Credit, 45X) begin to fully materialize.\n",
      "*   **Operating Profit:** Reflects the gross margin trends, further impacted by substantial R&D investments and SG&A expenses associated with global expansion.\n",
      "*   **Capital Expenditure (CapEx):** Extremely high, indicative of the company's aggressive capacity expansion plans. This is a necessary investment for future growth but will continue to weigh on free cash flow in the near to medium term.\n",
      "*   **Cash Flow:** Operating cash flow is generally positive, but free cash flow often remains negative due to the massive CapEx requirements. The company has managed its balance sheet effectively post-IPO, but debt levels are likely to increase to fund expansion.\n",
      "*   **Guidance:** Management typically provides ambitious revenue targets and outlines significant CapEx plans, while cautiously guiding on profitability, acknowledging the dynamic raw material and competitive landscape.\n",
      "\n",
      "---\n",
      "\n",
      "### **Industry & Competitive Landscape**\n",
      "\n",
      "The battery industry is characterized by explosive growth, intense competition, and rapid technological evolution.\n",
      "\n",
      "*   **Growth Drivers:** Global EV adoption, government mandates for decarbonization, and the increasing need for grid-scale ESS are powerful tailwinds.\n",
      "*   **Competition:** LGES faces formidable rivals, primarily CATL and BYD (especially in China), Samsung SDI, SK On, and Panasonic. Each player is aggressively expanding and innovating.\n",
      "*   **Raw Materials:** Volatility in key raw material prices (lithium, nickel, cobalt, graphite) remains a significant factor influencing profitability and supply chain stability. LGES is actively pursuing vertical integration and long-term supply agreements.\n",
      "*   **Technological Shifts:** While NMC (Nickel-Manganese-Cobalt) remains dominant for performance EVs, LFP (Lithium Iron Phosphate) is gaining traction for mass-market vehicles due to cost advantages. Solid-state batteries represent a long-term disruptive potential, with LGES actively investing in R&D.\n",
      "*   **Regionalization:** Policies like the U.S. IRA and similar initiatives in Europe are driving localized manufacturing and supply chains, benefiting players with strong regional footprints like LGES.\n",
      "\n",
      "---\n",
      "\n",
      "### **Strengths & Opportunities**\n",
      "\n",
      "1.  **Market Leadership & Diversified Portfolio:** A top-tier global player with a broad product range and a robust, diversified customer base across multiple geographies.\n",
      "2.  **North American Expansion & IRA Benefits:** LGES is exceptionally well-positioned to capitalize on the IRA's production tax credits (45X) through its numerous joint ventures (JVs) and wholly-owned facilities in the U.S. This provides a significant competitive advantage and a substantial boost to future profitability.\n",
      "3.  **Technological Prowess:** Strong R&D capabilities, evidenced by continuous improvements in energy density, charging speed, and safety. Active development in next-generation battery technologies.\n",
      "4.  **ESS Market Growth:** Beyond EVs, the ESS market is poised for exponential growth, driven by renewable energy integration and grid stabilization. LGES is a leading player here, offering another significant growth vector.\n",
      "5.  **Vertical Integration & Supply Chain Resilience:** Proactive efforts to secure raw material supply and explore recycling initiatives enhance long-term stability and cost control.\n",
      "\n",
      "---\n",
      "\n",
      "### **Risks & Challenges**\n",
      "\n",
      "1.  **Intense Competition & Pricing Pressure:** The aggressive expansion of competitors, particularly Chinese players, could lead to pricing pressure and potential oversupply in certain segments or regions in the long run.\n",
      "2.  **Raw Material Volatility:** Despite mitigation efforts, significant fluctuations in raw material prices can compress margins.\n",
      "3.  **High CapEx & Free Cash Flow Strain:** The massive investment required for capacity expansion will continue to consume significant capital, potentially limiting free cash flow generation in the near term.\n",
      "4.  **Technology Transition Risk:** While LGES is investing in LFP and solid-state, a faster-than-expected shift away from its core NMC technology could pose challenges.\n",
      "5.  **Geopolitical Risks:** Trade tensions, supply chain disruptions, and regulatory changes (e.g., U.S.-China relations) could impact operations and profitability.\n",
      "6.  **Operational Execution:** Successfully ramping up numerous new, complex manufacturing facilities globally without significant delays or cost overruns is a continuous challenge.\n",
      "7.  **Product Recalls:** While past issues (e.g., GM Bolt, Hyundai Kona) have largely been resolved, any future large-scale recalls could damage reputation and incur significant costs.\n",
      "\n",
      "---\n",
      "\n",
      "### **Valuation & Investment Thesis**\n",
      "\n",
      "LGES has historically traded at a premium valuation (e.g., high Price-to-Sales, Price-to-Earnings multiples) reflecting its market leadership and robust growth trajectory. Our investment thesis is predicated on:\n",
      "\n",
      "*   **Long-Term Structural Growth:** The electrification trend is irreversible, providing a multi-decade growth runway for battery manufacturers.\n",
      "*   **IRA-Driven Profitability Boost:** The 45X tax credits are a game-changer, significantly enhancing LGES's profitability profile, particularly from its North American operations, which will become increasingly dominant.\n",
      "*   **Operational Leverage & Scale:** As new plants mature and achieve higher utilization rates, we expect to see improved operating leverage and margin expansion.\n",
      "*   **Diversification:** Its balanced exposure to EVs, ESS, and various OEM clients provides resilience.\n",
      "\n",
      "However, the current valuation often prices in much of this future growth. Therefore, **the key for investors is not *if* LGES will grow, but *at what price* to participate in that growth.**\n",
      "\n",
      "---\n",
      "\n",
      "### **Recommendation & Entry Points: When to Buy**\n",
      "\n",
      "We maintain a **\"Buy on Dips with Long-Term Conviction\"** rating for LGES. Our recommendation for investors looking to enter or increase their position is to be patient and strategic, targeting the following scenarios:\n",
      "\n",
      "1.  **Market-Wide Corrections:** General equity market downturns or sector-specific pullbacks (e.g., EV sector cooling off) often present opportunities to acquire high-quality growth stocks like LGES at more attractive valuations. Look for periods where the broader market sentiment is negative, but LGES's fundamental outlook remains intact.\n",
      "2.  **LGES-Specific Operational Headwinds (Non-Structural):**\n",
      "    *   **Temporary Margin Pressure:** Short-term dips due to higher-than-expected raw material costs, initial ramp-up inefficiencies at new plants, or temporary pricing adjustments. These are often transient and do not undermine the long-term growth story.\n",
      "    *   **Guidance Misses (Short-Term):** If LGES misses quarterly earnings or revenue guidance due to temporary factors (e.g., supply chain bottlenecks, customer inventory adjustments), the stock may pull back, offering an entry point.\n",
      "3.  **Valuation Compression:** Monitor key valuation multiples (e.g., EV/Sales, P/S, P/E relative to growth). If the stock's multiples compress significantly below its historical average or relative to its closest peers (adjusting for IRA benefits), it could signal an attractive entry. We would look for a Price-to-Sales ratio that reflects a more reasonable discount to its projected 3-5 year revenue growth.\n",
      "4.  **Confirmation of IRA Benefits & Margin Expansion:** As LGES begins to report clearer and more substantial benefits from the IRA (e.g., specific 45X credit figures, noticeable improvement in North American segment margins), the market may re-rate the stock. Buying *before* these benefits are fully priced in, perhaps during a period of skepticism, could be advantageous.\n",
      "5.  **Technical Support Levels:** For technically-minded investors, identifying strong historical support levels on the stock chart can provide tactical entry points during pullbacks.\n",
      "\n",
      "**What to Monitor for Entry:**\n",
      "\n",
      "*   **Raw Material Price Stability:** A sustained period of stable or declining raw material costs would be a significant positive for margins.\n",
      "*   **New Order Announcements:** Major new OEM contracts or expansions of existing ones, especially for next-generation platforms.\n",
      "*   **CapEx Efficiency:** Signs that new plants are ramping up smoothly and on budget, leading to improved utilization rates.\n",
      "*   **Competitive Landscape:** Any signs of competitors facing significant setbacks or LGES gaining market share.\n",
      "*   **Management Commentary:** Listen closely to earnings calls for insights into margin outlook, IRA credit realization, and demand trends.\n",
      "\n",
      "**In essence, LGES is a long-term hold for exposure to the electrification megatrend. However, given its premium valuation, investors should exercise patience and look for opportunities to buy when the market offers a discount, rather than chasing upward momentum. The periods of temporary weakness or market skepticism are often the best times to build a position in a fundamentally strong, growth-oriented company like LGES.**\n",
      "\n",
      "---\n",
      "\n",
      "**Disclaimer:** This report is for informational purposes only and does not constitute financial advice. Investors should conduct their own due diligence and consult with a qualified financial advisor before making any investment decisions. The views expressed herein are based on current market conditions and information available at the time of writing and are subject to change without notice. Investing in the stock market involves risks, including the potential loss of principal.\n"
     ]
    }
   ],
   "source": [
    "print(lges_2025_2q_summ)"
   ]
  },
  {
   "cell_type": "markdown",
   "id": "ec321a42-4ccc-4997-84ae-a895dce34ae4",
   "metadata": {},
   "source": [
    "# Building synthetic dataset"
   ]
  },
  {
   "cell_type": "code",
   "execution_count": null,
   "id": "b1b02f6f-4c0f-4cea-80e3-b1743fce151b",
   "metadata": {},
   "outputs": [],
   "source": [
    "chunk_data_path = 'data/chunks/'\n",
    "file_name = 'chunks_rec_text_split_cs300_co50_defaultsep.json'\n",
    "\n",
    "with open(os.path.join(chunk_data_path, file_name), \"rb\") as fp:\n",
    "    chunks = pickle.load(fp)"
   ]
  },
  {
   "cell_type": "code",
   "execution_count": 6,
   "id": "0660e44a-37ca-405d-acab-a3118fe9927f",
   "metadata": {},
   "outputs": [],
   "source": [
    "# from tqdm.auto import tqdm\n",
    "# import pandas as pd\n",
    "# from typing import Optional, List, Tuple\n",
    "# import json\n",
    "\n",
    "pd.set_option(\"display.max_colwidth\", None)"
   ]
  },
  {
   "cell_type": "code",
   "execution_count": 12,
   "id": "5c370108-ee7e-4da5-b406-97b8b3722068",
   "metadata": {},
   "outputs": [
    {
     "data": {
      "application/vnd.jupyter.widget-view+json": {
       "model_id": "3c1426178bc44575897ec075eb899ff4",
       "version_major": 2,
       "version_minor": 0
      },
      "text/plain": [
       "  0%|          | 0/2647 [00:00<?, ?it/s]"
      ]
     },
     "metadata": {},
     "output_type": "display_data"
    }
   ],
   "source": [
    "from langchain.text_splitter import RecursiveCharacterTextSplitter\n",
    "from langchain.docstore.document import Document as LangchainDocument\n",
    "\n",
    "langchain_docs = [LangchainDocument(page_content=doc[\"text\"], metadata={\"source\": doc[\"source\"]}) for doc in tqdm(ds)]\n",
    "\n",
    "\n",
    "text_splitter = RecursiveCharacterTextSplitter(\n",
    "    chunk_size=2000,\n",
    "    chunk_overlap=200,\n",
    "    add_start_index=True,\n",
    "    separators=[\"\\n\\n\", \"\\n\", \".\", \" \", \"\"],\n",
    ")\n",
    "\n",
    "chunks = text_splitter.create_documents([lges_2025_2q_summ])\n",
    "\n",
    "# docs_processed = []\n",
    "# for doc in langchain_docs:\n",
    "#     docs_processed += text_splitter.split_documents([doc])"
   ]
  },
  {
   "cell_type": "code",
   "execution_count": 14,
   "id": "c86521a2-b6e6-484b-9594-3c9fd0b0773a",
   "metadata": {},
   "outputs": [
    {
     "data": {
      "text/plain": [
       "13841"
      ]
     },
     "execution_count": 14,
     "metadata": {},
     "output_type": "execute_result"
    }
   ],
   "source": [
    "len(docs_processed)"
   ]
  },
  {
   "cell_type": "code",
   "execution_count": 16,
   "id": "cbc0c2da-00ea-45ec-9ca6-1de35b84d87c",
   "metadata": {},
   "outputs": [
    {
     "data": {
      "text/plain": [
       "Document(metadata={'source': 'huggingface/hf-endpoints-documentation/blob/main/docs/source/guides/create_endpoint.mdx', 'start_index': 1}, page_content='Create an Endpoint\\n\\nAfter your first login, you will be directed to the [Endpoint creation page](https://ui.endpoints.huggingface.co/new). As an example, this guide will go through the steps to deploy [distilbert-base-uncased-finetuned-sst-2-english](https://huggingface.co/distilbert-base-uncased-finetuned-sst-2-english) for text classification. \\n\\n## 1. Enter the Hugging Face Repository ID and your desired endpoint name:\\n\\n<img src=\"https://raw.githubusercontent.com/huggingface/hf-endpoints-documentation/main/assets/1_repository.png\" alt=\"select repository\" />\\n\\n## 2. Select your Cloud Provider and region. Initially, only AWS will be available as a Cloud Provider with the `us-east-1` and `eu-west-1` regions. We will add Azure soon, and if you need to test Endpoints with other Cloud Providers or regions, please let us know.\\n\\n<img src=\"https://raw.githubusercontent.com/huggingface/hf-endpoints-documentation/main/assets/1_region.png\" alt=\"select region\" />\\n\\n## 3. Define the [Security Level](security) for the Endpoint:\\n\\n<img src=\"https://raw.githubusercontent.com/huggingface/hf-endpoints-documentation/main/assets/1_security.png\" alt=\"define security\" />\\n\\n## 4. Create your Endpoint by clicking **Create Endpoint**. By default, your Endpoint is created with a medium CPU (2 x 4GB vCPUs with Intel Xeon Ice Lake) The cost estimate assumes the Endpoint will be up for an entire month, and does not take autoscaling into account.\\n\\n<img src=\"https://raw.githubusercontent.com/huggingface/hf-endpoints-documentation/main/assets/1_create_cost.png\" alt=\"create endpoint\" />\\n\\n## 5. Wait for the Endpoint to build, initialize and run which can take between 1 to 5 minutes.\\n\\n<img src=\"https://raw.githubusercontent.com/huggingface/hf-endpoints-documentation/main/assets/overview.png\" alt=\"overview\" />\\n\\n## 6. Test your Endpoint in the overview with the Inference widget 🏁 🎉!')"
      ]
     },
     "execution_count": 16,
     "metadata": {},
     "output_type": "execute_result"
    }
   ],
   "source": [
    "docs_processed[0]"
   ]
  }
 ],
 "metadata": {
  "kernelspec": {
   "display_name": "venv_rag",
   "language": "python",
   "name": "python3"
  },
  "language_info": {
   "codemirror_mode": {
    "name": "ipython",
    "version": 3
   },
   "file_extension": ".py",
   "mimetype": "text/x-python",
   "name": "python",
   "nbconvert_exporter": "python",
   "pygments_lexer": "ipython3",
   "version": "3.10.14"
  }
 },
 "nbformat": 4,
 "nbformat_minor": 5
}
